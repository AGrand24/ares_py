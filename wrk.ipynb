{
 "cells": [
  {
   "cell_type": "code",
   "execution_count": 4,
   "id": "bd073881",
   "metadata": {},
   "outputs": [
    {
     "name": "stdout",
     "output_type": "stream",
     "text": [
      "input\\klinovec\\001.2dm\n",
      "input\\klinovec\\002.2dm\n",
      "input\\klinovec\\003.2dm\n",
      "input\\klinovec\\004.2dm\n",
      "input\\klinovec\\005.2dm\n",
      "input\\klinovec\\006.2dm\n",
      "input\\klinovec\\007.2dm\n",
      "input\\klinovec\\008.2dm\n",
      "input\\klinovec\\009.2dm\n",
      "input\\klinovec\\010.2dm\n",
      "input\\klinovec\\011.2dm\n",
      "\t Placeholder coordinates only! Skipping DTM load..\n"
     ]
    }
   ],
   "source": [
    "import pandas as pd\n",
    "import numpy as np\n",
    "import plotly.graph_objects as go\n",
    "\n",
    "from ares_py.get_ld import get_ld\n",
    "from ares_py.class_ert import ERT\n",
    "from ares_py.plot.fig import fig_meas_data\n",
    "from ares_py.geometry.coords import (\n",
    "    coords_load,\n",
    "    coords_ld2d,\n",
    "    coords_interpolate,\n",
    "    coord_merge,\n",
    "    coords_merge_sections,\n",
    "    coords_get_z,\n",
    "    coords_create_csv,\n",
    ")\n",
    "from ares_py.geometry.dtm import tif_read, dtm_sample, dtm_merge_data, dtm_check\n",
    "\n",
    "fps = get_ld(\"input\", ext=\".2dm\")[\"fp\"]\n",
    "dtm = tif_read(\"input/klinovec/dtm.tif\")\n",
    "\n",
    "for fp in fps:\n",
    "    print(fp)\n",
    "    ert = ERT(fp).Load().Colorscales()\n",
    "\n",
    "    coords_create_csv(ert)\n",
    "    coords = coords_load(ert.fp[\"in_topo\"])\n",
    "    ert.coords = coords_ld2d(coords)\n",
    "    ert.coords_int = coords_interpolate(ert.coords)\n",
    "    ert.data = coord_merge(ert)\n",
    "    ert.sec = coords_merge_sections(ert)\n",
    "\n",
    "    ert.check[\"dtm\"] = dtm_check(ert)\n",
    "\n",
    "    if ert.check[\"dtm\"] == True:\n",
    "\n",
    "        ert.sec, ert.dtm = dtm_sample(ert, dtm)\n",
    "        ert.data = dtm_merge_data(ert)\n",
    "        zmode = \"dtm\"\n",
    "    else:\n",
    "        zmode = \"topo\"\n",
    "\n",
    "    ert.data = coords_get_z(ert, zmode)\n",
    "    fig = fig_meas_data(ert)"
   ]
  },
  {
   "cell_type": "code",
   "execution_count": null,
   "id": "61370734",
   "metadata": {},
   "outputs": [],
   "source": []
  }
 ],
 "metadata": {
  "kernelspec": {
   "display_name": "Python 3",
   "language": "python",
   "name": "python3"
  },
  "language_info": {
   "codemirror_mode": {
    "name": "ipython",
    "version": 3
   },
   "file_extension": ".py",
   "mimetype": "text/x-python",
   "name": "python",
   "nbconvert_exporter": "python",
   "pygments_lexer": "ipython3",
   "version": "3.13.5"
  }
 },
 "nbformat": 4,
 "nbformat_minor": 5
}

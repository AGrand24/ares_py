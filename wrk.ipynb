{
 "cells": [
  {
   "cell_type": "code",
   "execution_count": null,
   "id": "bd073881",
   "metadata": {},
   "outputs": [
    {
     "name": "stdout",
     "output_type": "stream",
     "text": [
      "input/klinovec/001.2dm\n",
      "input/klinovec/002.2dm\n",
      "input/klinovec/003.2dm\n",
      "input/klinovec/004.2dm\n",
      "input/klinovec/005.2dm\n",
      "input/klinovec/006.2dm\n",
      "input/klinovec/007.2dm\n",
      "input/klinovec/008.2dm\n",
      "input/klinovec/009.2dm\n",
      "input/klinovec/010.2dm\n",
      "input/klinovec/011.2dm\n"
     ]
    },
    {
     "ename": "NameError",
     "evalue": "name 'data' is not defined",
     "output_type": "error",
     "traceback": [
      "\u001b[31m---------------------------------------------------------------------------\u001b[39m",
      "\u001b[31mNameError\u001b[39m                                 Traceback (most recent call last)",
      "\u001b[36mCell\u001b[39m\u001b[36m \u001b[39m\u001b[32mIn[44]\u001b[39m\u001b[32m, line 50\u001b[39m\n\u001b[32m     47\u001b[39m     data = pd.concat([data, ert.data])\n\u001b[32m     48\u001b[39m     sec = pd.concat([sec, ert.sec])\n\u001b[32m---> \u001b[39m\u001b[32m50\u001b[39m fig = \u001b[43mfig_meas_data_3d\u001b[49m\u001b[43m(\u001b[49m\u001b[43mdata\u001b[49m\u001b[43m,\u001b[49m\u001b[43m \u001b[49m\u001b[43mert\u001b[49m\u001b[43m.\u001b[49m\u001b[43mcs_res\u001b[49m\u001b[43m,\u001b[49m\u001b[43m \u001b[49m\u001b[43mdtm\u001b[49m\u001b[43m,\u001b[49m\u001b[43m \u001b[49m\u001b[33;43m\"\u001b[39;49m\u001b[33;43mtmp/test3d.html\u001b[39;49m\u001b[33;43m\"\u001b[39;49m\u001b[43m)\u001b[49m\n",
      "\u001b[36mFile \u001b[39m\u001b[32m<string>:5\u001b[39m, in \u001b[36mfig_meas_data_3d\u001b[39m\u001b[34m(df, cs_res, dtm, fp_out)\u001b[39m\n",
      "\u001b[31mNameError\u001b[39m: name 'data' is not defined"
     ]
    }
   ],
   "source": [
    "import pandas as pd\n",
    "import numpy as np\n",
    "import plotly.graph_objects as go\n",
    "\n",
    "from ares_py.get_ld import get_ld\n",
    "from ares_py.class_ert import ERT\n",
    "from ares_py.plot.fig import fig_meas_data, fig_meas_data_3d\n",
    "from ares_py.geometry.coords import (\n",
    "    coords_load,\n",
    "    coords_ld2d,\n",
    "    coords_interpolate,\n",
    "    coord_merge,\n",
    "    coords_merge_sections,\n",
    "    coords_get_z,\n",
    "    coords_create_csv,\n",
    ")\n",
    "from ares_py.geometry.dtm import tif_read, dtm_sample, dtm_merge_data, dtm_check\n",
    "\n",
    "fps = get_ld(\"input/klinovec/\", ext=\".2dm\")[\"fp\"]\n",
    "dtm = tif_read(\"input/klinovec/dtm.tif\")\n",
    "\n",
    "data = pd.DataFrame()\n",
    "sec = pd.DataFrame()\n",
    "for fp in fps:\n",
    "    print(fp)\n",
    "    ert = ERT(fp).Load().Colorscales()\n",
    "\n",
    "    coords_create_csv(ert)\n",
    "    coords = coords_load(ert.fp[\"in_topo\"])\n",
    "    ert.coords = coords_ld2d(coords)\n",
    "    ert.coords_int = coords_interpolate(ert.coords)\n",
    "    ert.data = coord_merge(ert)\n",
    "    ert.sec = coords_merge_sections(ert)\n",
    "\n",
    "    ert.check[\"dtm\"] = dtm_check(ert)\n",
    "\n",
    "    if ert.check[\"dtm\"] == True:\n",
    "\n",
    "        ert.sec, ert.dtm = dtm_sample(ert, dtm)\n",
    "        ert.data = dtm_merge_data(ert)\n",
    "        zmode = \"dtm\"\n",
    "    else:\n",
    "        zmode = \"topo\"\n",
    "\n",
    "    ert.data = coords_get_z(ert, zmode)\n",
    "    fig = fig_meas_data(ert)\n",
    "    data = pd.concat([data, ert.data])\n",
    "    sec = pd.concat([sec, ert.sec])\n",
    "\n",
    "fig = fig_meas_data_3d(data, sec, ert.cs_res, dtm, \"tmp/test3d.html\")"
   ]
  },
  {
   "cell_type": "code",
   "execution_count": null,
   "id": "61370734",
   "metadata": {},
   "outputs": [
    {
     "ename": "NameError",
     "evalue": "name 'data' is not defined",
     "output_type": "error",
     "traceback": [
      "\u001b[31m---------------------------------------------------------------------------\u001b[39m",
      "\u001b[31mNameError\u001b[39m                                 Traceback (most recent call last)",
      "\u001b[36mCell\u001b[39m\u001b[36m \u001b[39m\u001b[32mIn[42]\u001b[39m\u001b[32m, line 1\u001b[39m\n\u001b[32m----> \u001b[39m\u001b[32m1\u001b[39m fig = \u001b[43mfig_meas_data_3d\u001b[49m\u001b[43m(\u001b[49m\u001b[43mdata\u001b[49m\u001b[43m,\u001b[49m\u001b[43m \u001b[49m\u001b[43mert\u001b[49m\u001b[43m.\u001b[49m\u001b[43mcs_res\u001b[49m\u001b[43m,\u001b[49m\u001b[43m \u001b[49m\u001b[43mdtm\u001b[49m\u001b[43m,\u001b[49m\u001b[43m \u001b[49m\u001b[33;43m\"\u001b[39;49m\u001b[33;43mtmp/test3d.html\u001b[39;49m\u001b[33;43m\"\u001b[39;49m\u001b[43m)\u001b[49m\n",
      "\u001b[36mFile \u001b[39m\u001b[32m<string>:5\u001b[39m, in \u001b[36mfig_meas_data_3d\u001b[39m\u001b[34m(df, cs_res, dtm, fp_out)\u001b[39m\n",
      "\u001b[31mNameError\u001b[39m: name 'data' is not defined"
     ]
    }
   ],
   "source": []
  }
 ],
 "metadata": {
  "kernelspec": {
   "display_name": "Python 3",
   "language": "python",
   "name": "python3"
  },
  "language_info": {
   "codemirror_mode": {
    "name": "ipython",
    "version": 3
   },
   "file_extension": ".py",
   "mimetype": "text/x-python",
   "name": "python",
   "nbconvert_exporter": "python",
   "pygments_lexer": "ipython3",
   "version": "3.13.5"
  }
 },
 "nbformat": 4,
 "nbformat_minor": 5
}

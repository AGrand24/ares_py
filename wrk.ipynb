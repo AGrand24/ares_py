{
 "cells": [
  {
   "cell_type": "code",
   "execution_count": 1,
   "id": "bd073881",
   "metadata": {},
   "outputs": [
    {
     "name": "stdout",
     "output_type": "stream",
     "text": [
      "input\\klinovec\\001.2dm\n",
      "input\\klinovec\\002.2dm\n",
      "input\\klinovec\\003.2dm\n",
      "input\\klinovec\\004.2dm\n",
      "input\\klinovec\\005.2dm\n",
      "input\\klinovec\\006.2dm\n",
      "input\\klinovec\\007.2dm\n",
      "input\\klinovec\\008.2dm\n",
      "input\\klinovec\\009.2dm\n",
      "input\\klinovec\\010.2dm\n",
      "input\\klinovec\\011.2dm\n",
      "\t Placeholder coordinates only! Skipping DTM load..\n"
     ]
    },
    {
     "ename": "KeyError",
     "evalue": "'z0'",
     "output_type": "error",
     "traceback": [
      "\u001b[31m---------------------------------------------------------------------------\u001b[39m",
      "\u001b[31mKeyError\u001b[39m                                  Traceback (most recent call last)",
      "\u001b[36mFile \u001b[39m\u001b[32mc:\\Users\\adamg\\AppData\\Local\\Programs\\Python\\Python313\\Lib\\site-packages\\pandas\\core\\indexes\\base.py:3812\u001b[39m, in \u001b[36mIndex.get_loc\u001b[39m\u001b[34m(self, key)\u001b[39m\n\u001b[32m   3811\u001b[39m \u001b[38;5;28;01mtry\u001b[39;00m:\n\u001b[32m-> \u001b[39m\u001b[32m3812\u001b[39m     \u001b[38;5;28;01mreturn\u001b[39;00m \u001b[38;5;28;43mself\u001b[39;49m\u001b[43m.\u001b[49m\u001b[43m_engine\u001b[49m\u001b[43m.\u001b[49m\u001b[43mget_loc\u001b[49m\u001b[43m(\u001b[49m\u001b[43mcasted_key\u001b[49m\u001b[43m)\u001b[49m\n\u001b[32m   3813\u001b[39m \u001b[38;5;28;01mexcept\u001b[39;00m \u001b[38;5;167;01mKeyError\u001b[39;00m \u001b[38;5;28;01mas\u001b[39;00m err:\n",
      "\u001b[36mFile \u001b[39m\u001b[32mpandas/_libs/index.pyx:167\u001b[39m, in \u001b[36mpandas._libs.index.IndexEngine.get_loc\u001b[39m\u001b[34m()\u001b[39m\n",
      "\u001b[36mFile \u001b[39m\u001b[32mpandas/_libs/index.pyx:196\u001b[39m, in \u001b[36mpandas._libs.index.IndexEngine.get_loc\u001b[39m\u001b[34m()\u001b[39m\n",
      "\u001b[36mFile \u001b[39m\u001b[32mpandas/_libs/hashtable_class_helper.pxi:7088\u001b[39m, in \u001b[36mpandas._libs.hashtable.PyObjectHashTable.get_item\u001b[39m\u001b[34m()\u001b[39m\n",
      "\u001b[36mFile \u001b[39m\u001b[32mpandas/_libs/hashtable_class_helper.pxi:7096\u001b[39m, in \u001b[36mpandas._libs.hashtable.PyObjectHashTable.get_item\u001b[39m\u001b[34m()\u001b[39m\n",
      "\u001b[31mKeyError\u001b[39m: 'z0'",
      "\nThe above exception was the direct cause of the following exception:\n",
      "\u001b[31mKeyError\u001b[39m                                  Traceback (most recent call last)",
      "\u001b[36mCell\u001b[39m\u001b[36m \u001b[39m\u001b[32mIn[1]\u001b[39m\u001b[32m, line 43\u001b[39m\n\u001b[32m     40\u001b[39m \u001b[38;5;28;01melse\u001b[39;00m:\n\u001b[32m     41\u001b[39m     zmode = \u001b[33m\"\u001b[39m\u001b[33mtopo\u001b[39m\u001b[33m\"\u001b[39m\n\u001b[32m---> \u001b[39m\u001b[32m43\u001b[39m ert.data = \u001b[43mcoords_get_z\u001b[49m\u001b[43m(\u001b[49m\u001b[43mert\u001b[49m\u001b[43m,\u001b[49m\u001b[43m \u001b[49m\u001b[43mzmode\u001b[49m\u001b[43m)\u001b[49m\n\u001b[32m     44\u001b[39m fig = fig_meas_data(ert)\n",
      "\u001b[36mFile \u001b[39m\u001b[32mc:\\Users\\adamg\\OneDrive\\90_Processing\\ares_py\\ares_py\\geometry\\coords.py:83\u001b[39m, in \u001b[36mcoords_get_z\u001b[39m\u001b[34m(ert, zmode)\u001b[39m\n\u001b[32m     81\u001b[39m \u001b[38;5;28;01melse\u001b[39;00m:\n\u001b[32m     82\u001b[39m     z = \u001b[33m\"\u001b[39m\u001b[33mtopo\u001b[39m\u001b[33m\"\u001b[39m\n\u001b[32m---> \u001b[39m\u001b[32m83\u001b[39m     df[\u001b[33m\"\u001b[39m\u001b[33mz0_dtm\u001b[39m\u001b[33m\"\u001b[39m] = \u001b[43mdf\u001b[49m\u001b[43m[\u001b[49m\u001b[33;43m\"\u001b[39;49m\u001b[33;43mz0\u001b[39;49m\u001b[33;43m\"\u001b[39;49m\u001b[43m]\u001b[49m.max()\n\u001b[32m     84\u001b[39m     df[\u001b[33m\"\u001b[39m\u001b[33mdtm_dist\u001b[39m\u001b[33m\"\u001b[39m] = \u001b[32m0\u001b[39m\n\u001b[32m     86\u001b[39m df[\u001b[33m\"\u001b[39m\u001b[33mz0\u001b[39m\u001b[33m\"\u001b[39m] = df[\u001b[33mf\u001b[39m\u001b[33m\"\u001b[39m\u001b[33mz0_\u001b[39m\u001b[38;5;132;01m{\u001b[39;00mz\u001b[38;5;132;01m}\u001b[39;00m\u001b[33m\"\u001b[39m]\n",
      "\u001b[36mFile \u001b[39m\u001b[32mc:\\Users\\adamg\\AppData\\Local\\Programs\\Python\\Python313\\Lib\\site-packages\\pandas\\core\\frame.py:4107\u001b[39m, in \u001b[36mDataFrame.__getitem__\u001b[39m\u001b[34m(self, key)\u001b[39m\n\u001b[32m   4105\u001b[39m \u001b[38;5;28;01mif\u001b[39;00m \u001b[38;5;28mself\u001b[39m.columns.nlevels > \u001b[32m1\u001b[39m:\n\u001b[32m   4106\u001b[39m     \u001b[38;5;28;01mreturn\u001b[39;00m \u001b[38;5;28mself\u001b[39m._getitem_multilevel(key)\n\u001b[32m-> \u001b[39m\u001b[32m4107\u001b[39m indexer = \u001b[38;5;28;43mself\u001b[39;49m\u001b[43m.\u001b[49m\u001b[43mcolumns\u001b[49m\u001b[43m.\u001b[49m\u001b[43mget_loc\u001b[49m\u001b[43m(\u001b[49m\u001b[43mkey\u001b[49m\u001b[43m)\u001b[49m\n\u001b[32m   4108\u001b[39m \u001b[38;5;28;01mif\u001b[39;00m is_integer(indexer):\n\u001b[32m   4109\u001b[39m     indexer = [indexer]\n",
      "\u001b[36mFile \u001b[39m\u001b[32mc:\\Users\\adamg\\AppData\\Local\\Programs\\Python\\Python313\\Lib\\site-packages\\pandas\\core\\indexes\\base.py:3819\u001b[39m, in \u001b[36mIndex.get_loc\u001b[39m\u001b[34m(self, key)\u001b[39m\n\u001b[32m   3814\u001b[39m     \u001b[38;5;28;01mif\u001b[39;00m \u001b[38;5;28misinstance\u001b[39m(casted_key, \u001b[38;5;28mslice\u001b[39m) \u001b[38;5;129;01mor\u001b[39;00m (\n\u001b[32m   3815\u001b[39m         \u001b[38;5;28misinstance\u001b[39m(casted_key, abc.Iterable)\n\u001b[32m   3816\u001b[39m         \u001b[38;5;129;01mand\u001b[39;00m \u001b[38;5;28many\u001b[39m(\u001b[38;5;28misinstance\u001b[39m(x, \u001b[38;5;28mslice\u001b[39m) \u001b[38;5;28;01mfor\u001b[39;00m x \u001b[38;5;129;01min\u001b[39;00m casted_key)\n\u001b[32m   3817\u001b[39m     ):\n\u001b[32m   3818\u001b[39m         \u001b[38;5;28;01mraise\u001b[39;00m InvalidIndexError(key)\n\u001b[32m-> \u001b[39m\u001b[32m3819\u001b[39m     \u001b[38;5;28;01mraise\u001b[39;00m \u001b[38;5;167;01mKeyError\u001b[39;00m(key) \u001b[38;5;28;01mfrom\u001b[39;00m\u001b[38;5;250m \u001b[39m\u001b[34;01merr\u001b[39;00m\n\u001b[32m   3820\u001b[39m \u001b[38;5;28;01mexcept\u001b[39;00m \u001b[38;5;167;01mTypeError\u001b[39;00m:\n\u001b[32m   3821\u001b[39m     \u001b[38;5;66;03m# If we have a listlike key, _check_indexing_error will raise\u001b[39;00m\n\u001b[32m   3822\u001b[39m     \u001b[38;5;66;03m#  InvalidIndexError. Otherwise we fall through and re-raise\u001b[39;00m\n\u001b[32m   3823\u001b[39m     \u001b[38;5;66;03m#  the TypeError.\u001b[39;00m\n\u001b[32m   3824\u001b[39m     \u001b[38;5;28mself\u001b[39m._check_indexing_error(key)\n",
      "\u001b[31mKeyError\u001b[39m: 'z0'"
     ]
    }
   ],
   "source": [
    "import pandas as pd\n",
    "import numpy as np\n",
    "import plotly.graph_objects as go\n",
    "\n",
    "from ares_py.get_ld import get_ld\n",
    "from ares_py.class_ert import ERT\n",
    "from ares_py.plot.fig import fig_meas_data\n",
    "from ares_py.geometry.coords import (\n",
    "    coords_load,\n",
    "    coords_ld2d,\n",
    "    coords_interpolate,\n",
    "    coord_merge,\n",
    "    coords_merge_sections,\n",
    "    coords_get_z,\n",
    "    coords_create_csv,\n",
    ")\n",
    "from ares_py.geometry.dtm import tif_read, dtm_sample, dtm_merge_data, dtm_check\n",
    "\n",
    "fps = get_ld(\"input\", ext=\".2dm\")[\"fp\"]\n",
    "dtm = tif_read(\"input/klinovec/dtm.tif\")\n",
    "\n",
    "for fp in fps:\n",
    "    print(fp)\n",
    "    ert = ERT(fp).Load().Colorscales()\n",
    "\n",
    "    coords_create_csv(ert)\n",
    "    coords = coords_load(ert.fp[\"in_topo\"])\n",
    "    ert.coords = coords_ld2d(coords)\n",
    "    ert.coords_int = coords_interpolate(ert.coords)\n",
    "    ert.data = coord_merge(ert)\n",
    "    ert.sec = coords_merge_sections(ert)\n",
    "\n",
    "    ert.check[\"dtm\"] = dtm_check(ert)\n",
    "\n",
    "    if ert.check[\"dtm\"] == True:\n",
    "\n",
    "        ert.sec, ert.dtm = dtm_sample(ert, dtm)\n",
    "        ert.data = dtm_merge_data(ert)\n",
    "        zmode = \"dtm\"\n",
    "    else:\n",
    "        zmode = \"topo\"\n",
    "\n",
    "    ert.data = coords_get_z(ert, zmode)\n",
    "    fig = fig_meas_data(ert)"
   ]
  },
  {
   "cell_type": "code",
   "execution_count": null,
   "id": "61370734",
   "metadata": {},
   "outputs": [],
   "source": []
  }
 ],
 "metadata": {
  "kernelspec": {
   "display_name": "Python 3",
   "language": "python",
   "name": "python3"
  },
  "language_info": {
   "codemirror_mode": {
    "name": "ipython",
    "version": 3
   },
   "file_extension": ".py",
   "mimetype": "text/x-python",
   "name": "python",
   "nbconvert_exporter": "python",
   "pygments_lexer": "ipython3",
   "version": "3.13.5"
  }
 },
 "nbformat": 4,
 "nbformat_minor": 5
}

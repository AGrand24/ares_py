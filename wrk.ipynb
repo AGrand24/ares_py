{
 "cells": [
  {
   "cell_type": "code",
   "execution_count": 13,
   "id": "bd073881",
   "metadata": {},
   "outputs": [
    {
     "name": "stdout",
     "output_type": "stream",
     "text": [
      "input\\klinovec\\001.2dm\n",
      "input\\klinovec\\002.2dm\n",
      "input\\klinovec\\003.2dm\n",
      "input\\klinovec\\004.2dm\n",
      "input\\klinovec\\005.2dm\n",
      "input\\klinovec\\006.2dm\n",
      "input\\klinovec\\007.2dm\n",
      "input\\klinovec\\008.2dm\n",
      "input\\klinovec\\009.2dm\n",
      "input\\klinovec\\010.2dm\n",
      "input\\klinovec\\011.2dm\n"
     ]
    }
   ],
   "source": [
    "import pandas as pd\n",
    "import numpy as np\n",
    "import plotly.graph_objects as go\n",
    "\n",
    "from ares_py.get_ld import get_ld\n",
    "from ares_py.class_ert import ERT\n",
    "from ares_py.plot.fig import fig_meas_data\n",
    "from ares_py.geometry.coords import (\n",
    "    coords_load,\n",
    "    coords_ld2d,\n",
    "    coords_interpolate,\n",
    "    coord_merge,\n",
    ")\n",
    "\n",
    "fps = get_ld(\"input\", ext=\".2dm\")[\"fp\"]\n",
    "\n",
    "for fp in fps:\n",
    "    print(fp)\n",
    "    ert = ERT(fp).Load().Colorscales()\n",
    "\n",
    "    try:\n",
    "        coords = coords_load(ert.fp_load.replace(\".2dm\", \".csv\"))\n",
    "        coords = coords_ld2d(coords)\n",
    "\n",
    "        coords_int = coords_interpolate(coords)\n",
    "        ert.data = coord_merge(ert.data, coords_int)\n",
    "    except:\n",
    "        print(\"\\tError reading topo data..\")\n",
    "    fig = fig_meas_data(ert)"
   ]
  },
  {
   "cell_type": "code",
   "execution_count": null,
   "id": "b6caa17c",
   "metadata": {},
   "outputs": [],
   "source": [
    "dtick = ert.el_space\n",
    "\n",
    "k = 1 + (np.nanmax(ert.data.iloc[:, :4]) // 100)\n",
    "dtick *= k\n",
    "\n",
    "dtick"
   ]
  },
  {
   "cell_type": "code",
   "execution_count": null,
   "id": "861ec2f5",
   "metadata": {},
   "outputs": [],
   "source": [
    "ert.data.info()"
   ]
  }
 ],
 "metadata": {
  "kernelspec": {
   "display_name": "Python 3",
   "language": "python",
   "name": "python3"
  },
  "language_info": {
   "codemirror_mode": {
    "name": "ipython",
    "version": 3
   },
   "file_extension": ".py",
   "mimetype": "text/x-python",
   "name": "python",
   "nbconvert_exporter": "python",
   "pygments_lexer": "ipython3",
   "version": "3.13.5"
  }
 },
 "nbformat": 4,
 "nbformat_minor": 5
}

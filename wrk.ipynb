{
 "cells": [
  {
   "cell_type": "code",
   "execution_count": null,
   "id": "bd073881",
   "metadata": {},
   "outputs": [],
   "source": [
    "import pandas as pd\n",
    "import numpy as np\n",
    "import plotly.graph_objects as go\n",
    "\n",
    "from ares_py.get_ld import get_ld\n",
    "from ares_py.class_ert import ERT\n",
    "from ares_py.plot.fig import fig_meas_data\n",
    "from ares_py.geometry.coords import (\n",
    "    coords_load,\n",
    "    coords_ld2d,\n",
    "    coords_interpolate,\n",
    "    coord_merge,\n",
    "    coords_merge_sections,\n",
    "    coords_get_z,\n",
    ")\n",
    "from ares_py.geometry.dtm import tif_read, dtm_sample, dtm_merge_data\n",
    "\n",
    "fps = get_ld(\"input\", ext=\".2dm\")[\"fp\"]\n",
    "dtm = tif_read(\"input/klinovec/dtm.tif\")\n",
    "\n",
    "for fp in fps:\n",
    "    print(fp)\n",
    "    ert = ERT(fp).Load().Colorscales()\n",
    "\n",
    "    try:\n",
    "        coords = coords_load(ert.fp_load.replace(\".2dm\", \".csv\"))\n",
    "        ert.coords = coords_ld2d(coords)\n",
    "\n",
    "        ert.coords_int = coords_interpolate(ert.coords)\n",
    "        ert.data = coord_merge(ert)\n",
    "        ert.sec = coords_merge_sections(ert)\n",
    "        ert.sec, ert.dtm = dtm_sample(ert, dtm)\n",
    "        ert.data = dtm_merge_data(ert)\n",
    "        ert.data = coords_get_z(ert)\n",
    "    except:\n",
    "        print(\"\\tError reading topo data..\")\n",
    "    fig = fig_meas_data(ert)"
   ]
  },
  {
   "cell_type": "code",
   "execution_count": null,
   "id": "10bd3e3d",
   "metadata": {},
   "outputs": [],
   "source": []
  },
  {
   "cell_type": "code",
   "execution_count": null,
   "id": "4b0fcff2",
   "metadata": {},
   "outputs": [],
   "source": []
  }
 ],
 "metadata": {
  "kernelspec": {
   "display_name": "Python 3",
   "language": "python",
   "name": "python3"
  },
  "language_info": {
   "codemirror_mode": {
    "name": "ipython",
    "version": 3
   },
   "file_extension": ".py",
   "mimetype": "text/x-python",
   "name": "python",
   "nbconvert_exporter": "python",
   "pygments_lexer": "ipython3",
   "version": "3.13.5"
  }
 },
 "nbformat": 4,
 "nbformat_minor": 5
}

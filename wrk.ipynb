{
 "cells": [
  {
   "cell_type": "code",
   "execution_count": 22,
   "id": "bd073881",
   "metadata": {},
   "outputs": [],
   "source": [
    "import pandas as pd\n",
    "\n",
    "df = pd.read_csv(\n",
    "    r\"C:\\Users\\adamg\\OneDrive\\04_BHF\\01_Projects\\2508_ERT_Vlkanova\\tmp\\002.csv\",\n",
    "    header=None,\n",
    ")\n",
    "df.loc[df[0] >= 200, 0] -= 2\n",
    "df.to_csv(\"input/vlkanova/002.csv\", header=None, index=False)"
   ]
  },
  {
   "cell_type": "code",
   "execution_count": 23,
   "id": "f9bbf810",
   "metadata": {},
   "outputs": [
    {
     "name": "stdout",
     "output_type": "stream",
     "text": [
      "input/vlkanova\\001.2dm\n",
      "\t\t\t dtm\n",
      "input/vlkanova\\002.2dm\n",
      "\t\t\t dtm\n"
     ]
    }
   ],
   "source": [
    "pd.options.plotting.backend = \"plotly\"\n",
    "import numpy as np\n",
    "import plotly.graph_objects as go\n",
    "\n",
    "\n",
    "from ares_py.class_ert import ERT\n",
    "from ares_py.class_project import Project\n",
    "from ares_py.get_ld import get_ld\n",
    "\n",
    "prj = Project(\"vlkanova\", crs=8353)\n",
    "\n",
    "prj = prj.Process_2dm()"
   ]
  },
  {
   "cell_type": "code",
   "execution_count": 24,
   "id": "6bda7975",
   "metadata": {},
   "outputs": [],
   "source": [
    "from ares_py.tools.geometry_tools import pt_to_ls\n",
    "import geopandas as gpd\n",
    "\n",
    "gdf_ls = pt_to_ls(\n",
    "    prj.sec,\n",
    "    x=\"x\",\n",
    "    y=\"y\",\n",
    "    order=\"ld\",\n",
    "    groupby=\"ID_line\",\n",
    "    crs=prj.crs,\n",
    "    z=\"z0\",\n",
    ")\n",
    "\n",
    "gdf_ls.to_file(prj.fp[\"ert\"], layer=\"ert_sec_ls\", engine=\"pyogrio\")\n",
    "\n",
    "geom = gpd.points_from_xy(x=prj.sec[\"x\"], y=prj.sec[\"y\"], z=prj.sec[\"z0\"])\n",
    "gdf_pt = gpd.GeoDataFrame(prj.sec, geometry=geom, crs=prj.crs)\n",
    "gdf_pt.to_file(prj.fp[\"ert\"], layer=\"ert_sec_pt\", engine=\"pyogrio\")"
   ]
  },
  {
   "cell_type": "code",
   "execution_count": null,
   "id": "6a5b3f70",
   "metadata": {},
   "outputs": [],
   "source": []
  },
  {
   "cell_type": "code",
   "execution_count": null,
   "id": "912b426c",
   "metadata": {},
   "outputs": [],
   "source": []
  },
  {
   "cell_type": "code",
   "execution_count": 20,
   "id": "41e3c268",
   "metadata": {},
   "outputs": [
    {
     "data": {
      "application/vnd.plotly.v1+json": {
       "config": {
        "plotlyServerURL": "https://plot.ly"
       },
       "data": [
        {
         "hovertemplate": "ld=%{x}<br>y=%{y}<extra></extra>",
         "legendgroup": "",
         "marker": {
          "color": "#636efa",
          "symbol": "circle"
         },
         "mode": "markers",
         "name": "",
         "orientation": "v",
         "showlegend": false,
         "type": "scatter",
         "x": {
          "bdata": "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",
          "dtype": "f8"
         },
         "xaxis": "x",
         "y": {
          "bdata": "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",
          "dtype": "f8"
         },
         "yaxis": "y"
        }
       ],
       "layout": {
        "legend": {
         "tracegroupgap": 0
        },
        "margin": {
         "t": 60
        },
        "template": {
         "data": {
          "bar": [
           {
            "error_x": {
             "color": "#f2f5fa"
            },
            "error_y": {
             "color": "#f2f5fa"
            },
            "marker": {
             "line": {
              "color": "rgb(17,17,17)",
              "width": 0.5
             },
             "pattern": {
              "fillmode": "overlay",
              "size": 10,
              "solidity": 0.2
             }
            },
            "type": "bar"
           }
          ],
          "barpolar": [
           {
            "marker": {
             "line": {
              "color": "rgb(17,17,17)",
              "width": 0.5
             },
             "pattern": {
              "fillmode": "overlay",
              "size": 10,
              "solidity": 0.2
             }
            },
            "type": "barpolar"
           }
          ],
          "carpet": [
           {
            "aaxis": {
             "endlinecolor": "#A2B1C6",
             "gridcolor": "#506784",
             "linecolor": "#506784",
             "minorgridcolor": "#506784",
             "startlinecolor": "#A2B1C6"
            },
            "baxis": {
             "endlinecolor": "#A2B1C6",
             "gridcolor": "#506784",
             "linecolor": "#506784",
             "minorgridcolor": "#506784",
             "startlinecolor": "#A2B1C6"
            },
            "type": "carpet"
           }
          ],
          "choropleth": [
           {
            "colorbar": {
             "outlinewidth": 0,
             "ticks": ""
            },
            "type": "choropleth"
           }
          ],
          "contour": [
           {
            "colorbar": {
             "outlinewidth": 0,
             "ticks": ""
            },
            "colorscale": [
             [
              0,
              "#0d0887"
             ],
             [
              0.1111111111111111,
              "#46039f"
             ],
             [
              0.2222222222222222,
              "#7201a8"
             ],
             [
              0.3333333333333333,
              "#9c179e"
             ],
             [
              0.4444444444444444,
              "#bd3786"
             ],
             [
              0.5555555555555556,
              "#d8576b"
             ],
             [
              0.6666666666666666,
              "#ed7953"
             ],
             [
              0.7777777777777778,
              "#fb9f3a"
             ],
             [
              0.8888888888888888,
              "#fdca26"
             ],
             [
              1,
              "#f0f921"
             ]
            ],
            "type": "contour"
           }
          ],
          "contourcarpet": [
           {
            "colorbar": {
             "outlinewidth": 0,
             "ticks": ""
            },
            "type": "contourcarpet"
           }
          ],
          "heatmap": [
           {
            "colorbar": {
             "outlinewidth": 0,
             "ticks": ""
            },
            "colorscale": [
             [
              0,
              "#0d0887"
             ],
             [
              0.1111111111111111,
              "#46039f"
             ],
             [
              0.2222222222222222,
              "#7201a8"
             ],
             [
              0.3333333333333333,
              "#9c179e"
             ],
             [
              0.4444444444444444,
              "#bd3786"
             ],
             [
              0.5555555555555556,
              "#d8576b"
             ],
             [
              0.6666666666666666,
              "#ed7953"
             ],
             [
              0.7777777777777778,
              "#fb9f3a"
             ],
             [
              0.8888888888888888,
              "#fdca26"
             ],
             [
              1,
              "#f0f921"
             ]
            ],
            "type": "heatmap"
           }
          ],
          "histogram": [
           {
            "marker": {
             "pattern": {
              "fillmode": "overlay",
              "size": 10,
              "solidity": 0.2
             }
            },
            "type": "histogram"
           }
          ],
          "histogram2d": [
           {
            "colorbar": {
             "outlinewidth": 0,
             "ticks": ""
            },
            "colorscale": [
             [
              0,
              "#0d0887"
             ],
             [
              0.1111111111111111,
              "#46039f"
             ],
             [
              0.2222222222222222,
              "#7201a8"
             ],
             [
              0.3333333333333333,
              "#9c179e"
             ],
             [
              0.4444444444444444,
              "#bd3786"
             ],
             [
              0.5555555555555556,
              "#d8576b"
             ],
             [
              0.6666666666666666,
              "#ed7953"
             ],
             [
              0.7777777777777778,
              "#fb9f3a"
             ],
             [
              0.8888888888888888,
              "#fdca26"
             ],
             [
              1,
              "#f0f921"
             ]
            ],
            "type": "histogram2d"
           }
          ],
          "histogram2dcontour": [
           {
            "colorbar": {
             "outlinewidth": 0,
             "ticks": ""
            },
            "colorscale": [
             [
              0,
              "#0d0887"
             ],
             [
              0.1111111111111111,
              "#46039f"
             ],
             [
              0.2222222222222222,
              "#7201a8"
             ],
             [
              0.3333333333333333,
              "#9c179e"
             ],
             [
              0.4444444444444444,
              "#bd3786"
             ],
             [
              0.5555555555555556,
              "#d8576b"
             ],
             [
              0.6666666666666666,
              "#ed7953"
             ],
             [
              0.7777777777777778,
              "#fb9f3a"
             ],
             [
              0.8888888888888888,
              "#fdca26"
             ],
             [
              1,
              "#f0f921"
             ]
            ],
            "type": "histogram2dcontour"
           }
          ],
          "mesh3d": [
           {
            "colorbar": {
             "outlinewidth": 0,
             "ticks": ""
            },
            "type": "mesh3d"
           }
          ],
          "parcoords": [
           {
            "line": {
             "colorbar": {
              "outlinewidth": 0,
              "ticks": ""
             }
            },
            "type": "parcoords"
           }
          ],
          "pie": [
           {
            "automargin": true,
            "type": "pie"
           }
          ],
          "scatter": [
           {
            "marker": {
             "line": {
              "color": "#283442"
             }
            },
            "type": "scatter"
           }
          ],
          "scatter3d": [
           {
            "line": {
             "colorbar": {
              "outlinewidth": 0,
              "ticks": ""
             }
            },
            "marker": {
             "colorbar": {
              "outlinewidth": 0,
              "ticks": ""
             }
            },
            "type": "scatter3d"
           }
          ],
          "scattercarpet": [
           {
            "marker": {
             "colorbar": {
              "outlinewidth": 0,
              "ticks": ""
             }
            },
            "type": "scattercarpet"
           }
          ],
          "scattergeo": [
           {
            "marker": {
             "colorbar": {
              "outlinewidth": 0,
              "ticks": ""
             }
            },
            "type": "scattergeo"
           }
          ],
          "scattergl": [
           {
            "marker": {
             "line": {
              "color": "#283442"
             }
            },
            "type": "scattergl"
           }
          ],
          "scattermap": [
           {
            "marker": {
             "colorbar": {
              "outlinewidth": 0,
              "ticks": ""
             }
            },
            "type": "scattermap"
           }
          ],
          "scattermapbox": [
           {
            "marker": {
             "colorbar": {
              "outlinewidth": 0,
              "ticks": ""
             }
            },
            "type": "scattermapbox"
           }
          ],
          "scatterpolar": [
           {
            "marker": {
             "colorbar": {
              "outlinewidth": 0,
              "ticks": ""
             }
            },
            "type": "scatterpolar"
           }
          ],
          "scatterpolargl": [
           {
            "marker": {
             "colorbar": {
              "outlinewidth": 0,
              "ticks": ""
             }
            },
            "type": "scatterpolargl"
           }
          ],
          "scatterternary": [
           {
            "marker": {
             "colorbar": {
              "outlinewidth": 0,
              "ticks": ""
             }
            },
            "type": "scatterternary"
           }
          ],
          "surface": [
           {
            "colorbar": {
             "outlinewidth": 0,
             "ticks": ""
            },
            "colorscale": [
             [
              0,
              "#0d0887"
             ],
             [
              0.1111111111111111,
              "#46039f"
             ],
             [
              0.2222222222222222,
              "#7201a8"
             ],
             [
              0.3333333333333333,
              "#9c179e"
             ],
             [
              0.4444444444444444,
              "#bd3786"
             ],
             [
              0.5555555555555556,
              "#d8576b"
             ],
             [
              0.6666666666666666,
              "#ed7953"
             ],
             [
              0.7777777777777778,
              "#fb9f3a"
             ],
             [
              0.8888888888888888,
              "#fdca26"
             ],
             [
              1,
              "#f0f921"
             ]
            ],
            "type": "surface"
           }
          ],
          "table": [
           {
            "cells": {
             "fill": {
              "color": "#506784"
             },
             "line": {
              "color": "rgb(17,17,17)"
             }
            },
            "header": {
             "fill": {
              "color": "#2a3f5f"
             },
             "line": {
              "color": "rgb(17,17,17)"
             }
            },
            "type": "table"
           }
          ]
         },
         "layout": {
          "annotationdefaults": {
           "arrowcolor": "#f2f5fa",
           "arrowhead": 0,
           "arrowwidth": 1
          },
          "autotypenumbers": "strict",
          "coloraxis": {
           "colorbar": {
            "outlinewidth": 0,
            "ticks": ""
           }
          },
          "colorscale": {
           "diverging": [
            [
             0,
             "#8e0152"
            ],
            [
             0.1,
             "#c51b7d"
            ],
            [
             0.2,
             "#de77ae"
            ],
            [
             0.3,
             "#f1b6da"
            ],
            [
             0.4,
             "#fde0ef"
            ],
            [
             0.5,
             "#f7f7f7"
            ],
            [
             0.6,
             "#e6f5d0"
            ],
            [
             0.7,
             "#b8e186"
            ],
            [
             0.8,
             "#7fbc41"
            ],
            [
             0.9,
             "#4d9221"
            ],
            [
             1,
             "#276419"
            ]
           ],
           "sequential": [
            [
             0,
             "#0d0887"
            ],
            [
             0.1111111111111111,
             "#46039f"
            ],
            [
             0.2222222222222222,
             "#7201a8"
            ],
            [
             0.3333333333333333,
             "#9c179e"
            ],
            [
             0.4444444444444444,
             "#bd3786"
            ],
            [
             0.5555555555555556,
             "#d8576b"
            ],
            [
             0.6666666666666666,
             "#ed7953"
            ],
            [
             0.7777777777777778,
             "#fb9f3a"
            ],
            [
             0.8888888888888888,
             "#fdca26"
            ],
            [
             1,
             "#f0f921"
            ]
           ],
           "sequentialminus": [
            [
             0,
             "#0d0887"
            ],
            [
             0.1111111111111111,
             "#46039f"
            ],
            [
             0.2222222222222222,
             "#7201a8"
            ],
            [
             0.3333333333333333,
             "#9c179e"
            ],
            [
             0.4444444444444444,
             "#bd3786"
            ],
            [
             0.5555555555555556,
             "#d8576b"
            ],
            [
             0.6666666666666666,
             "#ed7953"
            ],
            [
             0.7777777777777778,
             "#fb9f3a"
            ],
            [
             0.8888888888888888,
             "#fdca26"
            ],
            [
             1,
             "#f0f921"
            ]
           ]
          },
          "colorway": [
           "#636efa",
           "#EF553B",
           "#00cc96",
           "#ab63fa",
           "#FFA15A",
           "#19d3f3",
           "#FF6692",
           "#B6E880",
           "#FF97FF",
           "#FECB52"
          ],
          "font": {
           "color": "#f2f5fa"
          },
          "geo": {
           "bgcolor": "rgb(17,17,17)",
           "lakecolor": "rgb(17,17,17)",
           "landcolor": "rgb(17,17,17)",
           "showlakes": true,
           "showland": true,
           "subunitcolor": "#506784"
          },
          "hoverlabel": {
           "align": "left"
          },
          "hovermode": "closest",
          "mapbox": {
           "style": "dark"
          },
          "paper_bgcolor": "rgb(17,17,17)",
          "plot_bgcolor": "rgb(17,17,17)",
          "polar": {
           "angularaxis": {
            "gridcolor": "#506784",
            "linecolor": "#506784",
            "ticks": ""
           },
           "bgcolor": "rgb(17,17,17)",
           "radialaxis": {
            "gridcolor": "#506784",
            "linecolor": "#506784",
            "ticks": ""
           }
          },
          "scene": {
           "xaxis": {
            "backgroundcolor": "rgb(17,17,17)",
            "gridcolor": "#506784",
            "gridwidth": 2,
            "linecolor": "#506784",
            "showbackground": true,
            "ticks": "",
            "zerolinecolor": "#C8D4E3"
           },
           "yaxis": {
            "backgroundcolor": "rgb(17,17,17)",
            "gridcolor": "#506784",
            "gridwidth": 2,
            "linecolor": "#506784",
            "showbackground": true,
            "ticks": "",
            "zerolinecolor": "#C8D4E3"
           },
           "zaxis": {
            "backgroundcolor": "rgb(17,17,17)",
            "gridcolor": "#506784",
            "gridwidth": 2,
            "linecolor": "#506784",
            "showbackground": true,
            "ticks": "",
            "zerolinecolor": "#C8D4E3"
           }
          },
          "shapedefaults": {
           "line": {
            "color": "#f2f5fa"
           }
          },
          "sliderdefaults": {
           "bgcolor": "#C8D4E3",
           "bordercolor": "rgb(17,17,17)",
           "borderwidth": 1,
           "tickwidth": 0
          },
          "ternary": {
           "aaxis": {
            "gridcolor": "#506784",
            "linecolor": "#506784",
            "ticks": ""
           },
           "baxis": {
            "gridcolor": "#506784",
            "linecolor": "#506784",
            "ticks": ""
           },
           "bgcolor": "rgb(17,17,17)",
           "caxis": {
            "gridcolor": "#506784",
            "linecolor": "#506784",
            "ticks": ""
           }
          },
          "title": {
           "x": 0.05
          },
          "updatemenudefaults": {
           "bgcolor": "#506784",
           "borderwidth": 0
          },
          "xaxis": {
           "automargin": true,
           "gridcolor": "#283442",
           "linecolor": "#506784",
           "ticks": "",
           "title": {
            "standoff": 15
           },
           "zerolinecolor": "#283442",
           "zerolinewidth": 2
          },
          "yaxis": {
           "automargin": true,
           "gridcolor": "#283442",
           "linecolor": "#506784",
           "ticks": "",
           "title": {
            "standoff": 15
           },
           "zerolinecolor": "#283442",
           "zerolinewidth": 2
          }
         }
        },
        "xaxis": {
         "anchor": "y",
         "domain": [
          0,
          1
         ],
         "title": {
          "text": "ld"
         }
        },
        "yaxis": {
         "anchor": "x",
         "domain": [
          0,
          1
         ],
         "title": {
          "text": "y"
         }
        }
       }
      }
     },
     "metadata": {},
     "output_type": "display_data"
    }
   ],
   "source": [
    "# prj.sec = prj.sec.query(\"ID_line=='001'\")\n",
    "prj.sec.plot(x=prj.sec[\"ld\"], y=(prj.sec[\"ld\"] - prj.sec[\"ld_hor\"]), kind=\"scatter\")"
   ]
  },
  {
   "cell_type": "code",
   "execution_count": null,
   "id": "49693d30",
   "metadata": {},
   "outputs": [],
   "source": []
  }
 ],
 "metadata": {
  "kernelspec": {
   "display_name": "Python 3",
   "language": "python",
   "name": "python3"
  },
  "language_info": {
   "codemirror_mode": {
    "name": "ipython",
    "version": 3
   },
   "file_extension": ".py",
   "mimetype": "text/x-python",
   "name": "python",
   "nbconvert_exporter": "python",
   "pygments_lexer": "ipython3",
   "version": "3.13.5"
  }
 },
 "nbformat": 4,
 "nbformat_minor": 5
}

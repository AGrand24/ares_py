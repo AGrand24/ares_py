{
 "cells": [
  {
   "cell_type": "code",
   "execution_count": null,
   "id": "bd073881",
   "metadata": {},
   "outputs": [],
   "source": [
    "import pandas as pd\n",
    "import numpy as np\n",
    "import plotly.graph_objects as go\n",
    "\n",
    "from ares_py.get_ld import get_ld\n",
    "from ares_py.class_ert import ERT\n",
    "from ares_py.plot.fig import fig_meas_data\n",
    "from ares_py.geometry.coords import (\n",
    "    coords_load,\n",
    "    coords_ld2d,\n",
    "    coords_interpolate,\n",
    "    coord_merge,\n",
    "    coords_merge_sections,\n",
    ")\n",
    "\n",
    "fps = get_ld(\"input\", ext=\".2dm\")[\"fp\"]\n",
    "\n",
    "for fp in fps:\n",
    "    print(fp)\n",
    "    ert = ERT(fp).Load().Colorscales()\n",
    "\n",
    "    try:\n",
    "        coords = coords_load(ert.fp_load.replace(\".2dm\", \".csv\"))\n",
    "        coords = coords_ld2d(coords)\n",
    "\n",
    "        ert.coords_int = coords_interpolate(coords)\n",
    "        ert.data = coord_merge(ert)\n",
    "        ert.sec = coords_merge_sections(ert)\n",
    "    except:\n",
    "        print(\"\\tError reading topo data..\")\n",
    "    # fig = fig_meas_data(ert)\n",
    "\n",
    "\n",
    "ert.data"
   ]
  },
  {
   "cell_type": "code",
   "execution_count": null,
   "id": "667646ca",
   "metadata": {},
   "outputs": [],
   "source": [
    "from ares_py.geometry.dtm import tif_read\n",
    "\n",
    "dtm = tif_read(\"input/klinovec/dtm.tif\")"
   ]
  },
  {
   "cell_type": "code",
   "execution_count": null,
   "id": "677bb43b",
   "metadata": {},
   "outputs": [],
   "source": [
    "import geopandas as gpd\n",
    "import shapely\n",
    "from shapely import LineString\n",
    "\n",
    "\n",
    "def dtm_get_buffer(ert):\n",
    "    data = ert.sec.copy().dropna(subset=\"x\")\n",
    "    geom = gpd.points_from_xy(data[\"x\"], data[\"y\"])\n",
    "\n",
    "    geom = LineString(geom)\n",
    "    buffer = shapely.buffer(geom, 5)\n",
    "    return buffer\n",
    "\n",
    "\n",
    "def dtm_clip_line_lim(ert, dtm):\n",
    "    df = pd.DataFrame(np.column_stack([d.flatten() for d in dtm]))\n",
    "\n",
    "    mask2 = df[0] <= ert.sec[\"x\"].max()\n",
    "    mask1 = df[0] >= ert.sec[\"x\"].min()\n",
    "    df = df.loc[mask1 & mask2]\n",
    "\n",
    "    mask2 = df[1] <= ert.sec[\"y\"].max()\n",
    "    mask1 = df[1] >= ert.sec[\"y\"].min()\n",
    "    df = df.loc[mask1 & mask2]\n",
    "    df = df.dropna()\n",
    "    return df\n",
    "\n",
    "\n",
    "def dtm_clip_buffer():\n",
    "    buffer = dtm_get_buffer(ert)\n",
    "    df = dtm_clip_line_lim(ert, dtm)\n",
    "\n",
    "    pt = gpd.GeoSeries(gpd.points_from_xy(df[0], df[1], df[2]))\n",
    "    mask = buffer.contains(pt)\n",
    "\n",
    "    dtm_clipped = pt[mask == True]\n",
    "    dtm_clipped = dtm_clipped.get_coordinates(include_z=True)\n",
    "    return"
   ]
  },
  {
   "cell_type": "code",
   "execution_count": null,
   "id": "2358091c",
   "metadata": {},
   "outputs": [
    {
     "data": {
      "application/vnd.microsoft.datawrangler.viewer.v0+json": {
       "columns": [
        {
         "name": "index",
         "rawType": "int64",
         "type": "integer"
        },
        {
         "name": "0",
         "rawType": "object",
         "type": "unknown"
        }
       ],
       "ref": "43f13cb3-5340-4acf-b780-265e723187d7",
       "rows": [
        [
         "0",
         "[[-839397.01944944 -839397.01944944 -839397.01944944 ... -839397.01944944\n  -839397.01944944 -839397.01944944]\n [-839396.01834831 -839396.01834831 -839396.01834831 ... -839396.01834831\n  -839396.01834831 -839396.01834831]\n [-839395.01724719 -839395.01724719 -839395.01724719 ... -839395.01724719\n  -839395.01724719 -839395.01724719]\n ...\n [-838803.36648315 -838803.36648315 -838803.36648315 ... -838803.36648315\n  -838803.36648315 -838803.36648315]\n [-838802.36538202 -838802.36538202 -838802.36538202 ... -838802.36538202\n  -838802.36538202 -838802.36538202]\n [-838801.3642809  -838801.3642809  -838801.3642809  ... -838801.3642809\n  -838801.3642809  -838801.3642809 ]]"
        ],
        [
         "1",
         "[[-993408.38423272 -993409.38349815 -993410.38276359 ... -993850.05955554\n  -993851.05882097 -993852.05808641]\n [-993408.38423272 -993409.38349815 -993410.38276359 ... -993850.05955554\n  -993851.05882097 -993852.05808641]\n [-993408.38423272 -993409.38349815 -993410.38276359 ... -993850.05955554\n  -993851.05882097 -993852.05808641]\n ...\n [-993408.38423272 -993409.38349815 -993410.38276359 ... -993850.05955554\n  -993851.05882097 -993852.05808641]\n [-993408.38423272 -993409.38349815 -993410.38276359 ... -993850.05955554\n  -993851.05882097 -993852.05808641]\n [-993408.38423272 -993409.38349815 -993410.38276359 ... -993850.05955554\n  -993851.05882097 -993852.05808641]]"
        ],
        [
         "2",
         "[[          nan           nan           nan ...           nan\n            nan           nan]\n [          nan 1035.56994629 1035.56994629 ...  994.38000488\n   994.38000488           nan]\n [          nan 1035.56994629 1035.56994629 ...  994.38000488\n   994.38000488           nan]\n ...\n [          nan 1068.7800293  1068.7800293  ... 1099.0776092\n  1099.33032611           nan]\n [          nan 1068.7800293  1068.7800293  ... 1099.07759167\n  1099.33032611           nan]\n [          nan           nan           nan ...           nan\n            nan           nan]]"
        ]
       ],
       "shape": {
        "columns": 1,
        "rows": 3
       }
      },
      "text/plain": [
       "[array([[-839397.01944944, -839397.01944944, -839397.01944944, ...,\n",
       "         -839397.01944944, -839397.01944944, -839397.01944944],\n",
       "        [-839396.01834831, -839396.01834831, -839396.01834831, ...,\n",
       "         -839396.01834831, -839396.01834831, -839396.01834831],\n",
       "        [-839395.01724719, -839395.01724719, -839395.01724719, ...,\n",
       "         -839395.01724719, -839395.01724719, -839395.01724719],\n",
       "        ...,\n",
       "        [-838803.36648315, -838803.36648315, -838803.36648315, ...,\n",
       "         -838803.36648315, -838803.36648315, -838803.36648315],\n",
       "        [-838802.36538202, -838802.36538202, -838802.36538202, ...,\n",
       "         -838802.36538202, -838802.36538202, -838802.36538202],\n",
       "        [-838801.3642809 , -838801.3642809 , -838801.3642809 , ...,\n",
       "         -838801.3642809 , -838801.3642809 , -838801.3642809 ]],\n",
       "       shape=(596, 445)),\n",
       " array([[-993408.38423272, -993409.38349815, -993410.38276359, ...,\n",
       "         -993850.05955554, -993851.05882097, -993852.05808641],\n",
       "        [-993408.38423272, -993409.38349815, -993410.38276359, ...,\n",
       "         -993850.05955554, -993851.05882097, -993852.05808641],\n",
       "        [-993408.38423272, -993409.38349815, -993410.38276359, ...,\n",
       "         -993850.05955554, -993851.05882097, -993852.05808641],\n",
       "        ...,\n",
       "        [-993408.38423272, -993409.38349815, -993410.38276359, ...,\n",
       "         -993850.05955554, -993851.05882097, -993852.05808641],\n",
       "        [-993408.38423272, -993409.38349815, -993410.38276359, ...,\n",
       "         -993850.05955554, -993851.05882097, -993852.05808641],\n",
       "        [-993408.38423272, -993409.38349815, -993410.38276359, ...,\n",
       "         -993850.05955554, -993851.05882097, -993852.05808641]],\n",
       "       shape=(596, 445)),\n",
       " array([[          nan,           nan,           nan, ...,           nan,\n",
       "                   nan,           nan],\n",
       "        [          nan, 1035.56994629, 1035.56994629, ...,  994.38000488,\n",
       "          994.38000488,           nan],\n",
       "        [          nan, 1035.56994629, 1035.56994629, ...,  994.38000488,\n",
       "          994.38000488,           nan],\n",
       "        ...,\n",
       "        [          nan, 1068.7800293 , 1068.7800293 , ..., 1099.0776092 ,\n",
       "         1099.33032611,           nan],\n",
       "        [          nan, 1068.7800293 , 1068.7800293 , ..., 1099.07759167,\n",
       "         1099.33032611,           nan],\n",
       "        [          nan,           nan,           nan, ...,           nan,\n",
       "                   nan,           nan]], shape=(596, 445))]"
      ]
     },
     "execution_count": 96,
     "metadata": {},
     "output_type": "execute_result"
    }
   ],
   "source": []
  },
  {
   "cell_type": "code",
   "execution_count": null,
   "id": "e78d964a",
   "metadata": {},
   "outputs": [],
   "source": []
  }
 ],
 "metadata": {
  "kernelspec": {
   "display_name": "Python 3",
   "language": "python",
   "name": "python3"
  },
  "language_info": {
   "codemirror_mode": {
    "name": "ipython",
    "version": 3
   },
   "file_extension": ".py",
   "mimetype": "text/x-python",
   "name": "python",
   "nbconvert_exporter": "python",
   "pygments_lexer": "ipython3",
   "version": "3.13.5"
  }
 },
 "nbformat": 4,
 "nbformat_minor": 5
}

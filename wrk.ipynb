{
 "cells": [
  {
   "cell_type": "code",
   "execution_count": 8,
   "id": "bd073881",
   "metadata": {},
   "outputs": [
    {
     "name": "stdout",
     "output_type": "stream",
     "text": [
      "input\\klinovec\\001.2dm\n",
      "input\\klinovec\\002.2dm\n",
      "input\\klinovec\\003.2dm\n",
      "input\\klinovec\\004.2dm\n",
      "input\\klinovec\\005.2dm\n",
      "input\\klinovec\\006.2dm\n",
      "input\\klinovec\\007.2dm\n",
      "input\\klinovec\\008.2dm\n",
      "input\\klinovec\\009.2dm\n",
      "input\\klinovec\\010.2dm\n",
      "input\\klinovec\\011.2dm\n"
     ]
    }
   ],
   "source": [
    "import pandas as pd\n",
    "import numpy as np\n",
    "import plotly.graph_objects as go\n",
    "\n",
    "from ares_py.get_ld import get_ld\n",
    "from ares_py.class_ert import ERT\n",
    "from ares_py.plot.fig import fig_meas_data\n",
    "from ares_py.geometry.coords import (\n",
    "    coords_load,\n",
    "    coords_ld2d,\n",
    "    coords_interpolate,\n",
    "    coord_merge,\n",
    "    coords_merge_sections,\n",
    "    coords_get_z,\n",
    ")\n",
    "from ares_py.geometry.dtm import tif_read, dtm_sample, dtm_merge_data\n",
    "\n",
    "fps = get_ld(\"input\", ext=\".2dm\")[\"fp\"]\n",
    "dtm = tif_read(\"input/klinovec/dtm.tif\")\n",
    "\n",
    "for fp in fps:\n",
    "    print(fp)\n",
    "    ert = ERT(fp).Load().Colorscales()\n",
    "\n",
    "    try:\n",
    "        coords = coords_load(ert.fp_load.replace(\".2dm\", \".csv\"))\n",
    "        ert.coords = coords_ld2d(coords)\n",
    "\n",
    "        ert.coords_int = coords_interpolate(ert.coords)\n",
    "        ert.data = coord_merge(ert)\n",
    "        ert.sec = coords_merge_sections(ert)\n",
    "        ert.sec, ert.dtm = dtm_sample(ert, dtm)\n",
    "        ert.data = dtm_merge_data(ert)\n",
    "        ert.data = coords_get_z(ert)\n",
    "    except:\n",
    "        print(\"\\tError reading topo data..\")\n",
    "    fig = fig_meas_data(ert)"
   ]
  },
  {
   "cell_type": "code",
   "execution_count": null,
   "id": "10bd3e3d",
   "metadata": {},
   "outputs": [
    {
     "name": "stdout",
     "output_type": "stream",
     "text": [
      "<class 'pandas.core.frame.DataFrame'>\n",
      "RangeIndex: 9231 entries, 0 to 9230\n",
      "Data columns (total 28 columns):\n",
      " #   Column    Non-Null Count  Dtype  \n",
      "---  ------    --------------  -----  \n",
      " 0   c1        9231 non-null   int64  \n",
      " 1   c2        9231 non-null   int64  \n",
      " 2   p1        9231 non-null   int64  \n",
      " 3   p2        9231 non-null   int64  \n",
      " 4   arr       9231 non-null   object \n",
      " 5   res       9231 non-null   float32\n",
      " 6   v         9231 non-null   float32\n",
      " 7   i         9231 non-null   float32\n",
      " 8   ep        9231 non-null   float32\n",
      " 9   std       9231 non-null   float32\n",
      " 10  v_out     0 non-null      float32\n",
      " 11  ch1       9231 non-null   object \n",
      " 12  ch2       9231 non-null   object \n",
      " 13  a         9231 non-null   float64\n",
      " 14  n         9231 non-null   float64\n",
      " 15  ld        9231 non-null   float64\n",
      " 16  doi       9231 non-null   float64\n",
      " 17  ID_meas   9231 non-null   int64  \n",
      " 18  z         8670 non-null   float64\n",
      " 19  ld_hor    8670 non-null   float64\n",
      " 20  topo      8670 non-null   float64\n",
      " 21  x         8670 non-null   float64\n",
      " 22  y         8670 non-null   float64\n",
      " 23  z0_topo   8670 non-null   float64\n",
      " 24  z0_dtm    8670 non-null   float64\n",
      " 25  dtm_dist  8670 non-null   float64\n",
      " 26  z0        8670 non-null   float64\n",
      " 27  dtm       8670 non-null   float64\n",
      "dtypes: float32(6), float64(14), int64(5), object(3)\n",
      "memory usage: 1.8+ MB\n"
     ]
    }
   ],
   "source": []
  },
  {
   "cell_type": "code",
   "execution_count": null,
   "id": "4b0fcff2",
   "metadata": {},
   "outputs": [],
   "source": []
  }
 ],
 "metadata": {
  "kernelspec": {
   "display_name": "Python 3",
   "language": "python",
   "name": "python3"
  },
  "language_info": {
   "codemirror_mode": {
    "name": "ipython",
    "version": 3
   },
   "file_extension": ".py",
   "mimetype": "text/x-python",
   "name": "python",
   "nbconvert_exporter": "python",
   "pygments_lexer": "ipython3",
   "version": "3.13.5"
  }
 },
 "nbformat": 4,
 "nbformat_minor": 5
}

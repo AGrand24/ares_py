{
 "cells": [
  {
   "cell_type": "code",
   "execution_count": null,
   "id": "bd073881",
   "metadata": {},
   "outputs": [],
   "source": [
    "from ares_py.class_ert import ERT\n",
    "\n",
    "ert = ERT(\"2dm/jasna/pf1.2dm\").Load().Colorscales()"
   ]
  },
  {
   "cell_type": "code",
   "execution_count": null,
   "id": "1667c4c3",
   "metadata": {},
   "outputs": [],
   "source": [
    "ert.header"
   ]
  },
  {
   "cell_type": "code",
   "execution_count": null,
   "id": "4a62bf84",
   "metadata": {},
   "outputs": [],
   "source": [
    "from ares_py.tools.colors import load_clr_scale\n",
    "\n",
    "load_clr_scale(\"cs_def\")"
   ]
  }
 ],
 "metadata": {
  "kernelspec": {
   "display_name": "Python 3",
   "language": "python",
   "name": "python3"
  },
  "language_info": {
   "codemirror_mode": {
    "name": "ipython",
    "version": 3
   },
   "file_extension": ".py",
   "mimetype": "text/x-python",
   "name": "python",
   "nbconvert_exporter": "python",
   "pygments_lexer": "ipython3",
   "version": "3.13.5"
  }
 },
 "nbformat": 4,
 "nbformat_minor": 5
}

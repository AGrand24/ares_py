{
 "cells": [
  {
   "cell_type": "code",
   "execution_count": 1,
   "id": "f9bbf810",
   "metadata": {},
   "outputs": [
    {
     "name": "stdout",
     "output_type": "stream",
     "text": [
      "input/vlkanova\\001.2dm\n",
      "\tzmode=  dtm\n",
      "input/vlkanova\\002.2dm\n",
      "\tzmode=  dtm\n"
     ]
    }
   ],
   "source": [
    "import pandas as pd\n",
    "\n",
    "pd.options.plotting.backend = \"plotly\"\n",
    "import numpy as np\n",
    "import plotly.graph_objects as go\n",
    "\n",
    "\n",
    "from ares_py.class_ert import ERT\n",
    "from ares_py.class_project import Project\n",
    "from ares_py.get_ld import get_ld\n",
    "\n",
    "prj = Project(\"vlkanova\", crs=8353)\n",
    "\n",
    "prj = prj.Process_2dm(inv_zond=False)\n",
    "prj = prj.Export_gpkg_lines()\n",
    "prj = prj.Proc_layout_qc(500, 130, 200)"
   ]
  }
 ],
 "metadata": {
  "kernelspec": {
   "display_name": "Python 3",
   "language": "python",
   "name": "python3"
  },
  "language_info": {
   "codemirror_mode": {
    "name": "ipython",
    "version": 3
   },
   "file_extension": ".py",
   "mimetype": "text/x-python",
   "name": "python",
   "nbconvert_exporter": "python",
   "pygments_lexer": "ipython3",
   "version": "3.13.5"
  }
 },
 "nbformat": 4,
 "nbformat_minor": 5
}

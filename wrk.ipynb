{
 "cells": [
  {
   "cell_type": "code",
   "execution_count": null,
   "id": "bd073881",
   "metadata": {},
   "outputs": [],
   "source": [
    "from ares_py.class_ert import ERT\n",
    "import numpy as np\n",
    "\n",
    "ert = ERT(\"2dm/jasna/pf1.2dm\").Load().Colorscales()\n",
    "ert.data.info()"
   ]
  },
  {
   "cell_type": "code",
   "execution_count": null,
   "id": "1667c4c3",
   "metadata": {},
   "outputs": [],
   "source": [
    "from ares_py.plot.fig import fig_meas_data\n",
    "\n",
    "fig_meas_data(ert)"
   ]
  }
 ],
 "metadata": {
  "kernelspec": {
   "display_name": "Python 3",
   "language": "python",
   "name": "python3"
  },
  "language_info": {
   "codemirror_mode": {
    "name": "ipython",
    "version": 3
   },
   "file_extension": ".py",
   "mimetype": "text/x-python",
   "name": "python",
   "nbconvert_exporter": "python",
   "pygments_lexer": "ipython3",
   "version": "3.13.5"
  }
 },
 "nbformat": 4,
 "nbformat_minor": 5
}

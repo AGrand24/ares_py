{
 "cells": [
  {
   "cell_type": "code",
   "execution_count": null,
   "id": "dae707ab",
   "metadata": {},
   "outputs": [],
   "source": [
    "import pandas as pd\n",
    "import numpy as np\n",
    "import plotly.graph_objects as go\n",
    "from plotly.subplots import make_subplots\n",
    "import json\n",
    "from pathlib import Path\n",
    "\n",
    "pd.options.plotting.backend = \"plotly\"\n",
    "\n",
    "from ares_py.get_ld import get_ld\n",
    "from ares_py.mcs.mcs_header import mcs_get_header_version\n",
    "from ares_py.mcs.mcs_read import mcs_read_data\n",
    "from ares_py.geometry.array_geom import (\n",
    "    calc_geom_factor,\n",
    "    load_doi_data,\n",
    "    get_2d_geom_factor,\n",
    ")\n",
    "\n",
    "\n",
    "ld = get_ld(\"mcs\")\n",
    "ld = ld.loc[ld[\"fp\"].str.contains(\"A2_Dip-Dip overlap HD\")]\n",
    "\n",
    "for fp in ld[\"fp\"]:\n",
    "    with open(fp, \"r\", encoding=\"utf-8\") as file:\n",
    "        lines = file.readlines()\n",
    "        lines = pd.Series(lines)\n",
    "        header_version, header_data = mcs_get_header_version(lines)\n",
    "        data = mcs_read_data(fp, header_data, header_version)\n",
    "# data[10]\n",
    "\n",
    "gf2d = get_2d_geom_factor(data[10])\n",
    "\n",
    "el_1d = data[10].iloc[:, :13].astype(float)\n",
    "el_1d = np.array(el_1d)\n",
    "\n",
    "el_1d"
   ]
  }
 ],
 "metadata": {
  "kernelspec": {
   "display_name": "Python 3",
   "language": "python",
   "name": "python3"
  },
  "language_info": {
   "name": "python",
   "version": "3.13.5"
  }
 },
 "nbformat": 4,
 "nbformat_minor": 5
}

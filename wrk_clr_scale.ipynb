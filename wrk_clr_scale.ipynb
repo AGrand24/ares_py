{
 "cells": [
  {
   "cell_type": "code",
   "execution_count": null,
   "id": "7a5d9989",
   "metadata": {},
   "outputs": [],
   "source": [
    "from plotly.colors import sample_colorscale\n",
    "import pandas as pd\n",
    "import numpy as np\n",
    "\n",
    "\n",
    "def rgb_to_hex(rgb_string):\n",
    "    rgb_string = rgb_string.replace(\"rgb(\", \"\").replace(\")\", \"\")\n",
    "    rgb_string = rgb_string.split(\",\")\n",
    "    rgb_string = [int(s.strip()) for s in rgb_string]\n",
    "    r = rgb_string[0]\n",
    "    g = rgb_string[1]\n",
    "    b = rgb_string[2]\n",
    "\n",
    "    return f\"#{r:02x}{g:02x}{b:02x}\"\n",
    "\n",
    "\n",
    "def voltage_clrs(df, cmin, cmax):\n",
    "    colorscale = \"RdBu_r\"\n",
    "    for voltage, type in zip([\"voltage_raw\", \"voltage_norm\"], [\"r\", \"n\"]):\n",
    "        values = df[voltage].clip(lower=cmin, upper=cmax)\n",
    "        values = values.fillna(0)\n",
    "        values = (values - cmin) / (cmax - cmin)\n",
    "        clr_rgb = sample_colorscale(colorscale=colorscale, samplepoints=values)\n",
    "\n",
    "        df[f\"clr_{type}_rgb\"] = clr_rgb\n",
    "        mask = df[voltage].isnull()\n",
    "        df.loc[mask, [f\"clr_{type}_rgb\"]] = \"rgb(255, 0, 255)\"\n",
    "\n",
    "        clr_hex = [rgb_to_hex(c) for c in clr_rgb]\n",
    "        df[f\"clr_{type}_hex\"] = clr_hex\n",
    "\n",
    "    return df"
   ]
  },
  {
   "cell_type": "code",
   "execution_count": null,
   "id": "744c33f9",
   "metadata": {},
   "outputs": [],
   "source": [
    "import plotly.graph_objects as go\n",
    "import numpy as np\n",
    "\n",
    "x = np.arange(0, 1, 0.01)\n",
    "y = np.tile(0, x.shape)\n",
    "z = x.copy()\n",
    "\n",
    "fig = go.Figure(\n",
    "    go.Scatter(\n",
    "        x=x, y=y, mode=\"markers\", marker=dict(color=z, colorscale=\"Turbo\", size=10)\n",
    "    )\n",
    ")\n",
    "\n",
    "fig.update_yaxes(scaleanchor=\"x1\", scaleratio=1)\n",
    "fig.update_layout(width=600, height=600, margin=dict(l=2, r=2, t=2, b=2))\n",
    "fig.show()\n",
    "xy = [\n",
    "    [1, 0],\n",
    "    # [100, 0.03],\n",
    "    # [250, 0.15],\n",
    "    [500, 0.25],\n",
    "    # [750, 0.5],\n",
    "    [1000, 0.5],\n",
    "    # [2500, 0.7],\n",
    "    [5000, 0.75],\n",
    "    [10000, 1],\n",
    "]\n",
    "\n",
    "xy = np.vstack(xy)\n",
    "xy"
   ]
  },
  {
   "cell_type": "code",
   "execution_count": 157,
   "id": "488ff86e",
   "metadata": {},
   "outputs": [],
   "source": [
    "xxyy = np.arange(0, 10025, 25)\n",
    "xxyy = np.column_stack([xxyy, np.full(xxyy.shape, np.nan)])\n",
    "xxyy[0, 0] = 1\n",
    "xxyy[:, 1] = np.interp(xxyy[:, 0], xy[:, 0], xy[:, 1])\n",
    "xxyy\n",
    "\n",
    "poly = np.poly1d(np.polyfit(xy[:, 0], xy[:, 1], 4))\n",
    "pf = poly(xy[:, 0])"
   ]
  },
  {
   "cell_type": "code",
   "execution_count": 223,
   "id": "bb66255c",
   "metadata": {},
   "outputs": [
    {
     "data": {
      "application/vnd.plotly.v1+json": {
       "config": {
        "plotlyServerURL": "https://plot.ly"
       },
       "data": [
        {
         "marker": {
          "color": {
           "bdata": "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",
           "dtype": "f8"
          },
          "colorscale": [
           [
            0,
            "#0400E4"
           ],
           [
            0.33,
            "green"
           ],
           [
            0.66,
            "green"
           ],
           [
            1,
            "blue"
           ]
          ]
         },
         "mode": "markers",
         "showlegend": true,
         "type": "scatter",
         "x": {
          "bdata": "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",
          "dtype": "f8"
         },
         "y": {
          "bdata": "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",
          "dtype": "f8"
         }
        }
       ],
       "layout": {
        "coloraxis": {
         "colorscale": [
          [
           0,
           "#0400E4"
          ],
          [
           0.33,
           "green"
          ],
          [
           0.66,
           "green"
          ],
          [
           1,
           "blue"
          ]
         ]
        },
        "template": {
         "data": {
          "bar": [
           {
            "error_x": {
             "color": "#f2f5fa"
            },
            "error_y": {
             "color": "#f2f5fa"
            },
            "marker": {
             "line": {
              "color": "rgb(17,17,17)",
              "width": 0.5
             },
             "pattern": {
              "fillmode": "overlay",
              "size": 10,
              "solidity": 0.2
             }
            },
            "type": "bar"
           }
          ],
          "barpolar": [
           {
            "marker": {
             "line": {
              "color": "rgb(17,17,17)",
              "width": 0.5
             },
             "pattern": {
              "fillmode": "overlay",
              "size": 10,
              "solidity": 0.2
             }
            },
            "type": "barpolar"
           }
          ],
          "carpet": [
           {
            "aaxis": {
             "endlinecolor": "#A2B1C6",
             "gridcolor": "#506784",
             "linecolor": "#506784",
             "minorgridcolor": "#506784",
             "startlinecolor": "#A2B1C6"
            },
            "baxis": {
             "endlinecolor": "#A2B1C6",
             "gridcolor": "#506784",
             "linecolor": "#506784",
             "minorgridcolor": "#506784",
             "startlinecolor": "#A2B1C6"
            },
            "type": "carpet"
           }
          ],
          "choropleth": [
           {
            "colorbar": {
             "outlinewidth": 0,
             "ticks": ""
            },
            "type": "choropleth"
           }
          ],
          "contour": [
           {
            "colorbar": {
             "outlinewidth": 0,
             "ticks": ""
            },
            "colorscale": [
             [
              0,
              "#0d0887"
             ],
             [
              0.1111111111111111,
              "#46039f"
             ],
             [
              0.2222222222222222,
              "#7201a8"
             ],
             [
              0.3333333333333333,
              "#9c179e"
             ],
             [
              0.4444444444444444,
              "#bd3786"
             ],
             [
              0.5555555555555556,
              "#d8576b"
             ],
             [
              0.6666666666666666,
              "#ed7953"
             ],
             [
              0.7777777777777778,
              "#fb9f3a"
             ],
             [
              0.8888888888888888,
              "#fdca26"
             ],
             [
              1,
              "#f0f921"
             ]
            ],
            "type": "contour"
           }
          ],
          "contourcarpet": [
           {
            "colorbar": {
             "outlinewidth": 0,
             "ticks": ""
            },
            "type": "contourcarpet"
           }
          ],
          "heatmap": [
           {
            "colorbar": {
             "outlinewidth": 0,
             "ticks": ""
            },
            "colorscale": [
             [
              0,
              "#0d0887"
             ],
             [
              0.1111111111111111,
              "#46039f"
             ],
             [
              0.2222222222222222,
              "#7201a8"
             ],
             [
              0.3333333333333333,
              "#9c179e"
             ],
             [
              0.4444444444444444,
              "#bd3786"
             ],
             [
              0.5555555555555556,
              "#d8576b"
             ],
             [
              0.6666666666666666,
              "#ed7953"
             ],
             [
              0.7777777777777778,
              "#fb9f3a"
             ],
             [
              0.8888888888888888,
              "#fdca26"
             ],
             [
              1,
              "#f0f921"
             ]
            ],
            "type": "heatmap"
           }
          ],
          "histogram": [
           {
            "marker": {
             "pattern": {
              "fillmode": "overlay",
              "size": 10,
              "solidity": 0.2
             }
            },
            "type": "histogram"
           }
          ],
          "histogram2d": [
           {
            "colorbar": {
             "outlinewidth": 0,
             "ticks": ""
            },
            "colorscale": [
             [
              0,
              "#0d0887"
             ],
             [
              0.1111111111111111,
              "#46039f"
             ],
             [
              0.2222222222222222,
              "#7201a8"
             ],
             [
              0.3333333333333333,
              "#9c179e"
             ],
             [
              0.4444444444444444,
              "#bd3786"
             ],
             [
              0.5555555555555556,
              "#d8576b"
             ],
             [
              0.6666666666666666,
              "#ed7953"
             ],
             [
              0.7777777777777778,
              "#fb9f3a"
             ],
             [
              0.8888888888888888,
              "#fdca26"
             ],
             [
              1,
              "#f0f921"
             ]
            ],
            "type": "histogram2d"
           }
          ],
          "histogram2dcontour": [
           {
            "colorbar": {
             "outlinewidth": 0,
             "ticks": ""
            },
            "colorscale": [
             [
              0,
              "#0d0887"
             ],
             [
              0.1111111111111111,
              "#46039f"
             ],
             [
              0.2222222222222222,
              "#7201a8"
             ],
             [
              0.3333333333333333,
              "#9c179e"
             ],
             [
              0.4444444444444444,
              "#bd3786"
             ],
             [
              0.5555555555555556,
              "#d8576b"
             ],
             [
              0.6666666666666666,
              "#ed7953"
             ],
             [
              0.7777777777777778,
              "#fb9f3a"
             ],
             [
              0.8888888888888888,
              "#fdca26"
             ],
             [
              1,
              "#f0f921"
             ]
            ],
            "type": "histogram2dcontour"
           }
          ],
          "mesh3d": [
           {
            "colorbar": {
             "outlinewidth": 0,
             "ticks": ""
            },
            "type": "mesh3d"
           }
          ],
          "parcoords": [
           {
            "line": {
             "colorbar": {
              "outlinewidth": 0,
              "ticks": ""
             }
            },
            "type": "parcoords"
           }
          ],
          "pie": [
           {
            "automargin": true,
            "type": "pie"
           }
          ],
          "scatter": [
           {
            "marker": {
             "line": {
              "color": "#283442"
             }
            },
            "type": "scatter"
           }
          ],
          "scatter3d": [
           {
            "line": {
             "colorbar": {
              "outlinewidth": 0,
              "ticks": ""
             }
            },
            "marker": {
             "colorbar": {
              "outlinewidth": 0,
              "ticks": ""
             }
            },
            "type": "scatter3d"
           }
          ],
          "scattercarpet": [
           {
            "marker": {
             "colorbar": {
              "outlinewidth": 0,
              "ticks": ""
             }
            },
            "type": "scattercarpet"
           }
          ],
          "scattergeo": [
           {
            "marker": {
             "colorbar": {
              "outlinewidth": 0,
              "ticks": ""
             }
            },
            "type": "scattergeo"
           }
          ],
          "scattergl": [
           {
            "marker": {
             "line": {
              "color": "#283442"
             }
            },
            "type": "scattergl"
           }
          ],
          "scattermap": [
           {
            "marker": {
             "colorbar": {
              "outlinewidth": 0,
              "ticks": ""
             }
            },
            "type": "scattermap"
           }
          ],
          "scattermapbox": [
           {
            "marker": {
             "colorbar": {
              "outlinewidth": 0,
              "ticks": ""
             }
            },
            "type": "scattermapbox"
           }
          ],
          "scatterpolar": [
           {
            "marker": {
             "colorbar": {
              "outlinewidth": 0,
              "ticks": ""
             }
            },
            "type": "scatterpolar"
           }
          ],
          "scatterpolargl": [
           {
            "marker": {
             "colorbar": {
              "outlinewidth": 0,
              "ticks": ""
             }
            },
            "type": "scatterpolargl"
           }
          ],
          "scatterternary": [
           {
            "marker": {
             "colorbar": {
              "outlinewidth": 0,
              "ticks": ""
             }
            },
            "type": "scatterternary"
           }
          ],
          "surface": [
           {
            "colorbar": {
             "outlinewidth": 0,
             "ticks": ""
            },
            "colorscale": [
             [
              0,
              "#0d0887"
             ],
             [
              0.1111111111111111,
              "#46039f"
             ],
             [
              0.2222222222222222,
              "#7201a8"
             ],
             [
              0.3333333333333333,
              "#9c179e"
             ],
             [
              0.4444444444444444,
              "#bd3786"
             ],
             [
              0.5555555555555556,
              "#d8576b"
             ],
             [
              0.6666666666666666,
              "#ed7953"
             ],
             [
              0.7777777777777778,
              "#fb9f3a"
             ],
             [
              0.8888888888888888,
              "#fdca26"
             ],
             [
              1,
              "#f0f921"
             ]
            ],
            "type": "surface"
           }
          ],
          "table": [
           {
            "cells": {
             "fill": {
              "color": "#506784"
             },
             "line": {
              "color": "rgb(17,17,17)"
             }
            },
            "header": {
             "fill": {
              "color": "#2a3f5f"
             },
             "line": {
              "color": "rgb(17,17,17)"
             }
            },
            "type": "table"
           }
          ]
         },
         "layout": {
          "annotationdefaults": {
           "arrowcolor": "#f2f5fa",
           "arrowhead": 0,
           "arrowwidth": 1
          },
          "autotypenumbers": "strict",
          "coloraxis": {
           "colorbar": {
            "outlinewidth": 0,
            "ticks": ""
           }
          },
          "colorscale": {
           "diverging": [
            [
             0,
             "#8e0152"
            ],
            [
             0.1,
             "#c51b7d"
            ],
            [
             0.2,
             "#de77ae"
            ],
            [
             0.3,
             "#f1b6da"
            ],
            [
             0.4,
             "#fde0ef"
            ],
            [
             0.5,
             "#f7f7f7"
            ],
            [
             0.6,
             "#e6f5d0"
            ],
            [
             0.7,
             "#b8e186"
            ],
            [
             0.8,
             "#7fbc41"
            ],
            [
             0.9,
             "#4d9221"
            ],
            [
             1,
             "#276419"
            ]
           ],
           "sequential": [
            [
             0,
             "#0d0887"
            ],
            [
             0.1111111111111111,
             "#46039f"
            ],
            [
             0.2222222222222222,
             "#7201a8"
            ],
            [
             0.3333333333333333,
             "#9c179e"
            ],
            [
             0.4444444444444444,
             "#bd3786"
            ],
            [
             0.5555555555555556,
             "#d8576b"
            ],
            [
             0.6666666666666666,
             "#ed7953"
            ],
            [
             0.7777777777777778,
             "#fb9f3a"
            ],
            [
             0.8888888888888888,
             "#fdca26"
            ],
            [
             1,
             "#f0f921"
            ]
           ],
           "sequentialminus": [
            [
             0,
             "#0d0887"
            ],
            [
             0.1111111111111111,
             "#46039f"
            ],
            [
             0.2222222222222222,
             "#7201a8"
            ],
            [
             0.3333333333333333,
             "#9c179e"
            ],
            [
             0.4444444444444444,
             "#bd3786"
            ],
            [
             0.5555555555555556,
             "#d8576b"
            ],
            [
             0.6666666666666666,
             "#ed7953"
            ],
            [
             0.7777777777777778,
             "#fb9f3a"
            ],
            [
             0.8888888888888888,
             "#fdca26"
            ],
            [
             1,
             "#f0f921"
            ]
           ]
          },
          "colorway": [
           "#636efa",
           "#EF553B",
           "#00cc96",
           "#ab63fa",
           "#FFA15A",
           "#19d3f3",
           "#FF6692",
           "#B6E880",
           "#FF97FF",
           "#FECB52"
          ],
          "font": {
           "color": "#f2f5fa"
          },
          "geo": {
           "bgcolor": "rgb(17,17,17)",
           "lakecolor": "rgb(17,17,17)",
           "landcolor": "rgb(17,17,17)",
           "showlakes": true,
           "showland": true,
           "subunitcolor": "#506784"
          },
          "hoverlabel": {
           "align": "left"
          },
          "hovermode": "closest",
          "mapbox": {
           "style": "dark"
          },
          "paper_bgcolor": "rgb(17,17,17)",
          "plot_bgcolor": "rgb(17,17,17)",
          "polar": {
           "angularaxis": {
            "gridcolor": "#506784",
            "linecolor": "#506784",
            "ticks": ""
           },
           "bgcolor": "rgb(17,17,17)",
           "radialaxis": {
            "gridcolor": "#506784",
            "linecolor": "#506784",
            "ticks": ""
           }
          },
          "scene": {
           "xaxis": {
            "backgroundcolor": "rgb(17,17,17)",
            "gridcolor": "#506784",
            "gridwidth": 2,
            "linecolor": "#506784",
            "showbackground": true,
            "ticks": "",
            "zerolinecolor": "#C8D4E3"
           },
           "yaxis": {
            "backgroundcolor": "rgb(17,17,17)",
            "gridcolor": "#506784",
            "gridwidth": 2,
            "linecolor": "#506784",
            "showbackground": true,
            "ticks": "",
            "zerolinecolor": "#C8D4E3"
           },
           "zaxis": {
            "backgroundcolor": "rgb(17,17,17)",
            "gridcolor": "#506784",
            "gridwidth": 2,
            "linecolor": "#506784",
            "showbackground": true,
            "ticks": "",
            "zerolinecolor": "#C8D4E3"
           }
          },
          "shapedefaults": {
           "line": {
            "color": "#f2f5fa"
           }
          },
          "sliderdefaults": {
           "bgcolor": "#C8D4E3",
           "bordercolor": "rgb(17,17,17)",
           "borderwidth": 1,
           "tickwidth": 0
          },
          "ternary": {
           "aaxis": {
            "gridcolor": "#506784",
            "linecolor": "#506784",
            "ticks": ""
           },
           "baxis": {
            "gridcolor": "#506784",
            "linecolor": "#506784",
            "ticks": ""
           },
           "bgcolor": "rgb(17,17,17)",
           "caxis": {
            "gridcolor": "#506784",
            "linecolor": "#506784",
            "ticks": ""
           }
          },
          "title": {
           "x": 0.05
          },
          "updatemenudefaults": {
           "bgcolor": "#506784",
           "borderwidth": 0
          },
          "xaxis": {
           "automargin": true,
           "gridcolor": "#283442",
           "linecolor": "#506784",
           "ticks": "",
           "title": {
            "standoff": 15
           },
           "zerolinecolor": "#283442",
           "zerolinewidth": 2
          },
          "yaxis": {
           "automargin": true,
           "gridcolor": "#283442",
           "linecolor": "#506784",
           "ticks": "",
           "title": {
            "standoff": 15
           },
           "zerolinecolor": "#283442",
           "zerolinewidth": 2
          }
         }
        }
       }
      }
     },
     "metadata": {},
     "output_type": "display_data"
    }
   ],
   "source": [
    "import plotly.io as pio\n",
    "\n",
    "pio.templates.default = \"plotly_dark\"\n",
    "fig = go.Figure()\n",
    "# plt = []\n",
    "# fig.add_trace(go.Scatter(x=xy[:, 0], y=xy[:, 1]))\n",
    "\n",
    "cs = [\n",
    "    (0.00, \"#0400E4\"),\n",
    "    (0.33, \"green\"),\n",
    "    (0.66, \"green\"),\n",
    "    (1.00, \"blue\"),\n",
    "]\n",
    "\n",
    "fig.add_trace(\n",
    "    go.Scatter(\n",
    "        x=xxyy[:, 0],\n",
    "        y=xxyy[:, 1],\n",
    "        mode=\"markers\",\n",
    "        marker=dict(color=xxyy[:, 1], colorscale=cs),\n",
    "        # marker=dict(color=xxyy[:, 1]),\n",
    "        showlegend=True,\n",
    "    )\n",
    ")\n",
    "# fig.add_trace(\n",
    "#     go.Scatter(\n",
    "#         x=xy[:, 0],\n",
    "#         y=pf,\n",
    "#         mode=\"lines+markers\",\n",
    "#         # marker=dict(color=pf, colorscale=\"Turbo\"),\n",
    "#         showlegend=True,\n",
    "#     )\n",
    "# )\n",
    "fig.update_layout(coloraxis=dict(colorscale=cs))\n",
    "fig.show()"
   ]
  },
  {
   "cell_type": "code",
   "execution_count": null,
   "id": "b657bfff",
   "metadata": {},
   "outputs": [],
   "source": []
  },
  {
   "cell_type": "code",
   "execution_count": 249,
   "id": "5529a556",
   "metadata": {},
   "outputs": [
    {
     "data": {
      "application/vnd.microsoft.datawrangler.viewer.v0+json": {
       "columns": [
        {
         "name": "index",
         "rawType": "int64",
         "type": "integer"
        },
        {
         "name": "0",
         "rawType": "float64",
         "type": "float"
        },
        {
         "name": "1",
         "rawType": "object",
         "type": "string"
        }
       ],
       "ref": "5286af55-b71f-475c-94d8-0c85406417d4",
       "rows": [
        [
         "0",
         "0.0",
         "#0400E4"
        ],
        [
         "1",
         "0.01",
         "#0400E4"
        ],
        [
         "2",
         "0.025",
         "#00FFFF"
        ],
        [
         "3",
         "0.05",
         "#00ff7b"
        ],
        [
         "4",
         "0.1",
         "#f2ff00"
        ],
        [
         "5",
         "0.5",
         "#ff0000"
        ],
        [
         "6",
         "1.0",
         "#fb00b0"
        ]
       ],
       "shape": {
        "columns": 2,
        "rows": 7
       }
      },
      "text/plain": [
       "[(0.0, '#0400E4'),\n",
       " (0.01, '#0400E4'),\n",
       " (0.025, '#00FFFF'),\n",
       " (0.05, '#00ff7b'),\n",
       " (0.1, '#f2ff00'),\n",
       " (0.5, '#ff0000'),\n",
       " (1.0, '#fb00b0')]"
      ]
     },
     "execution_count": 249,
     "metadata": {},
     "output_type": "execute_result"
    }
   ],
   "source": [
    "generate_color_scale(cs, save=True)"
   ]
  },
  {
   "cell_type": "code",
   "execution_count": null,
   "id": "3d9d14b9",
   "metadata": {},
   "outputs": [],
   "source": []
  }
 ],
 "metadata": {
  "kernelspec": {
   "display_name": "Python 3",
   "language": "python",
   "name": "python3"
  },
  "language_info": {
   "codemirror_mode": {
    "name": "ipython",
    "version": 3
   },
   "file_extension": ".py",
   "mimetype": "text/x-python",
   "name": "python",
   "nbconvert_exporter": "python",
   "pygments_lexer": "ipython3",
   "version": "3.13.5"
  }
 },
 "nbformat": 4,
 "nbformat_minor": 5
}

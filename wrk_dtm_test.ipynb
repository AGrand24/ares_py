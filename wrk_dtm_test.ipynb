{
 "cells": [
  {
   "cell_type": "code",
   "execution_count": null,
   "id": "b026ea37",
   "metadata": {},
   "outputs": [
    {
     "data": {
      "application/vnd.microsoft.datawrangler.viewer.v0+json": {
       "columns": [
        {
         "name": "index",
         "rawType": "int64",
         "type": "integer"
        },
        {
         "name": "fid",
         "rawType": "int64",
         "type": "integer"
        },
        {
         "name": "ld",
         "rawType": "int64",
         "type": "integer"
        },
        {
         "name": "n_el",
         "rawType": "int64",
         "type": "integer"
        },
        {
         "name": "sec",
         "rawType": "int64",
         "type": "integer"
        },
        {
         "name": "n_sec",
         "rawType": "int64",
         "type": "integer"
        },
        {
         "name": "x",
         "rawType": "float64",
         "type": "float"
        },
        {
         "name": "y",
         "rawType": "float64",
         "type": "float"
        },
        {
         "name": "z0_topo",
         "rawType": "float64",
         "type": "float"
        },
        {
         "name": "ld_hor",
         "rawType": "float64",
         "type": "float"
        },
        {
         "name": "dtm",
         "rawType": "int64",
         "type": "integer"
        },
        {
         "name": "dtm_dist",
         "rawType": "float64",
         "type": "float"
        },
        {
         "name": "z0_dtm",
         "rawType": "float64",
         "type": "float"
        },
        {
         "name": "z0",
         "rawType": "float64",
         "type": "float"
        },
        {
         "name": "ID_line",
         "rawType": "int64",
         "type": "integer"
        },
        {
         "name": "sampled",
         "rawType": "float64",
         "type": "float"
        }
       ],
       "ref": "f7db8bd6-9dfb-4bf8-a011-08e73fa300b6",
       "rows": [
        [
         "0",
         "1",
         "0",
         "0",
         "0",
         "0",
         "-418473.57",
         "-1235412.97",
         "318.21",
         "0.0",
         "0",
         "0.27",
         "318.76",
         "318.76",
         "2",
         "318.67"
        ],
        [
         "1",
         "2",
         "2",
         "1",
         "0",
         "1",
         "-418472.688",
         "-1235411.156",
         "318.23",
         "2.01705726246401",
         "0",
         "0.49",
         "318.73",
         "318.73",
         "2",
         "318.68"
        ],
        [
         "2",
         "3",
         "4",
         "2",
         "0",
         "2",
         "-418471.806",
         "-1235409.342",
         "318.24",
         "4.03411452492802",
         "0",
         "0.61",
         "318.68",
         "318.68",
         "2",
         "318.68"
        ],
        [
         "3",
         "4",
         "6",
         "3",
         "0",
         "3",
         "-418470.924",
         "-1235407.528",
         "318.26",
         "6.05117178739203",
         "0",
         "0.52",
         "318.69",
         "318.69",
         "2",
         "318.64"
        ],
        [
         "4",
         "5",
         "8",
         "4",
         "0",
         "4",
         "-418470.042",
         "-1235405.714",
         "318.27",
         "8.06822904985604",
         "0",
         "0.34",
         "318.74",
         "318.74",
         "2",
         "318.74"
        ],
        [
         "5",
         "6",
         "10",
         "5",
         "0",
         "5",
         "-418469.16",
         "-1235403.9",
         "318.29",
         "10.08528631232",
         "0",
         "0.26",
         "318.72",
         "318.72",
         "2",
         "318.73"
        ],
        [
         "6",
         "7",
         "12",
         "6",
         "0",
         "6",
         "-418468.35",
         "-1235402.088",
         "318.3",
         "12.0700895770967",
         "0",
         "0.32",
         "318.73",
         "318.73",
         "2",
         "318.72"
        ],
        [
         "7",
         "8",
         "14",
         "7",
         "0",
         "7",
         "-418467.54",
         "-1235400.276",
         "318.31",
         "14.0548928418733",
         "0",
         "0.52",
         "318.72",
         "318.72",
         "2",
         "318.72"
        ],
        [
         "8",
         "9",
         "16",
         "8",
         "1",
         "0",
         "-418466.73",
         "-1235398.464",
         "318.32",
         "16.0396961066499",
         "0",
         "0.46",
         "318.77",
         "318.77",
         "2",
         "318.77"
        ],
        [
         "9",
         "10",
         "18",
         "9",
         "1",
         "1",
         "-418465.92",
         "-1235396.652",
         "318.33",
         "18.0244993714266",
         "0",
         "0.47",
         "318.78",
         "318.78",
         "2",
         "318.78"
        ],
        [
         "10",
         "11",
         "20",
         "10",
         "1",
         "2",
         "-418465.11",
         "-1235394.84",
         "318.34",
         "20.0093026362032",
         "0",
         "0.28",
         "318.78",
         "318.78",
         "2",
         "318.82"
        ],
        [
         "11",
         "12",
         "22",
         "11",
         "1",
         "3",
         "-418464.36",
         "-1235392.994",
         "318.33",
         "22.0018427236258",
         "0",
         "0.23",
         "318.85",
         "318.85",
         "2",
         "318.79"
        ],
        [
         "12",
         "13",
         "24",
         "12",
         "1",
         "4",
         "-418463.61",
         "-1235391.148",
         "318.33",
         "23.9943828110485",
         "0",
         "0.46",
         "318.91",
         "318.91",
         "2",
         "318.92"
        ],
        [
         "13",
         "14",
         "26",
         "13",
         "1",
         "5",
         "-418462.86",
         "-1235389.302",
         "318.32",
         "25.9869228984711",
         "0",
         "0.67",
         "318.87",
         "318.87",
         "2",
         "318.87"
        ],
        [
         "14",
         "15",
         "28",
         "14",
         "1",
         "6",
         "-418462.11",
         "-1235387.456",
         "318.32",
         "27.9794629858938",
         "0",
         "0.4",
         "318.86",
         "318.86",
         "2",
         "318.86"
        ],
        [
         "15",
         "16",
         "30",
         "15",
         "1",
         "7",
         "-418461.36",
         "-1235385.61",
         "318.31",
         "29.9720030733164",
         "0",
         "0.14",
         "318.91",
         "318.91",
         "2",
         "318.91"
        ],
        [
         "16",
         "17",
         "32",
         "16",
         "2",
         "0",
         "-418460.692",
         "-1235383.736",
         "318.32",
         "31.9615004973095",
         "0",
         "0.32",
         "318.88",
         "318.88",
         "2",
         "318.88"
        ],
        [
         "17",
         "18",
         "34",
         "17",
         "2",
         "1",
         "-418460.024",
         "-1235381.862",
         "318.33",
         "33.9509979213026",
         "0",
         "0.36",
         "318.81",
         "318.81",
         "2",
         "318.82"
        ],
        [
         "18",
         "19",
         "36",
         "18",
         "2",
         "2",
         "-418459.356",
         "-1235379.988",
         "318.35",
         "35.9404953452956",
         "0",
         "0.24",
         "318.9",
         "318.9",
         "2",
         "318.83"
        ],
        [
         "19",
         "20",
         "38",
         "19",
         "2",
         "3",
         "-418458.688",
         "-1235378.114",
         "318.36",
         "37.9299927692887",
         "0",
         "0.49",
         "318.98",
         "318.98",
         "2",
         "318.94"
        ],
        [
         "20",
         "21",
         "40",
         "20",
         "2",
         "4",
         "-418458.02",
         "-1235376.24",
         "318.37",
         "39.9194901932818",
         "0",
         "0.61",
         "318.9",
         "318.9",
         "2",
         "318.89"
        ],
        [
         "21",
         "22",
         "42",
         "21",
         "2",
         "5",
         "-418457.418",
         "-1235374.364",
         "318.36",
         "41.8897135308551",
         "0",
         "0.38",
         "318.98",
         "318.98",
         "2",
         "318.98"
        ],
        [
         "22",
         "23",
         "44",
         "22",
         "2",
         "6",
         "-418456.816",
         "-1235372.488",
         "318.34",
         "43.8599368684283",
         "0",
         "0.52",
         "319.04",
         "319.04",
         "2",
         "319.04"
        ],
        [
         "23",
         "24",
         "46",
         "23",
         "2",
         "7",
         "-418456.214",
         "-1235370.612",
         "318.33",
         "45.8301602060016",
         "0",
         "0.2",
         "319.04",
         "319.04",
         "2",
         "319.04"
        ],
        [
         "24",
         "25",
         "48",
         "24",
         "3",
         "0",
         "-418455.612",
         "-1235368.736",
         "318.31",
         "47.8003835435749",
         "0",
         "0.25",
         "319.04",
         "319.04",
         "2",
         "319.04"
        ],
        [
         "25",
         "26",
         "50",
         "25",
         "3",
         "1",
         "-418455.01",
         "-1235366.86",
         "318.3",
         "49.7706068811482",
         "0",
         "0.38",
         "319.04",
         "319.04",
         "2",
         "319.02"
        ],
        [
         "26",
         "27",
         "52",
         "26",
         "3",
         "2",
         "-418454.462",
         "-1235364.914",
         "318.28",
         "51.7922942952072",
         "0",
         "0.21",
         "319.03",
         "319.03",
         "2",
         "318.95"
        ],
        [
         "27",
         "28",
         "54",
         "27",
         "3",
         "3",
         "-418453.914",
         "-1235362.968",
         "318.26",
         "53.8139817092662",
         "0",
         "0.51",
         "318.97",
         "318.97",
         "2",
         "319.03"
        ],
        [
         "28",
         "29",
         "56",
         "28",
         "3",
         "4",
         "-418453.366",
         "-1235361.022",
         "318.25",
         "55.8356691233253",
         "0",
         "0.29",
         "318.92",
         "318.92",
         "2",
         "318.97"
        ],
        [
         "29",
         "30",
         "58",
         "29",
         "3",
         "5",
         "-418452.818",
         "-1235359.076",
         "318.23",
         "57.8573565373843",
         "0",
         "0.57",
         "318.9",
         "318.9",
         "2",
         "318.89"
        ],
        [
         "30",
         "31",
         "60",
         "30",
         "3",
         "6",
         "-418452.27",
         "-1235357.13",
         "318.21",
         "59.8790439514433",
         "0",
         "0.41",
         "318.76",
         "318.76",
         "2",
         "318.87"
        ],
        [
         "31",
         "32",
         "62",
         "31",
         "3",
         "7",
         "-418451.596",
         "-1235355.272",
         "318.22",
         "61.8555155550474",
         "0",
         "0.51",
         "318.72",
         "318.72",
         "2",
         "318.72"
        ],
        [
         "32",
         "33",
         "64",
         "32",
         "4",
         "0",
         "-418450.922",
         "-1235353.414",
         "318.24",
         "63.8319871586515",
         "0",
         "0.54",
         "318.74",
         "318.74",
         "2",
         "318.77"
        ],
        [
         "33",
         "34",
         "66",
         "33",
         "4",
         "1",
         "-418450.248",
         "-1235351.556",
         "318.25",
         "65.8084587622557",
         "0",
         "0.2",
         "318.82",
         "318.82",
         "2",
         "318.82"
        ],
        [
         "34",
         "35",
         "68",
         "34",
         "4",
         "2",
         "-418449.574",
         "-1235349.698",
         "318.27",
         "67.7849303658598",
         "0",
         "0.22",
         "318.55",
         "318.55",
         "2",
         "318.55"
        ],
        [
         "35",
         "36",
         "70",
         "35",
         "4",
         "3",
         "-418448.9",
         "-1235347.84",
         "318.28",
         "69.7614019694639",
         "0",
         "0.47",
         "318.47",
         "318.47",
         "2",
         "318.49"
        ],
        [
         "36",
         "37",
         "72",
         "36",
         "4",
         "4",
         "-418448.282",
         "-1235345.937",
         "318.29",
         "71.762235045964",
         "0",
         "0.23",
         "318.5",
         "318.5",
         "2",
         "318.53"
        ],
        [
         "37",
         "38",
         "74",
         "37",
         "4",
         "5",
         "-418447.664",
         "-1235344.034",
         "318.3",
         "73.7630681224641",
         "0",
         "0.44",
         "318.58",
         "318.58",
         "2",
         "318.53"
        ],
        [
         "38",
         "39",
         "76",
         "38",
         "4",
         "6",
         "-418447.046",
         "-1235342.131",
         "318.32",
         "75.7639011989642",
         "0",
         "0.52",
         "318.72",
         "318.72",
         "2",
         "318.6"
        ],
        [
         "39",
         "40",
         "78",
         "39",
         "4",
         "7",
         "-418446.428",
         "-1235340.228",
         "318.33",
         "77.7647342754644",
         "0",
         "0.49",
         "318.64",
         "318.64",
         "2",
         "318.64"
        ],
        [
         "40",
         "41",
         "80",
         "40",
         "5",
         "0",
         "-418445.81",
         "-1235338.325",
         "318.34",
         "79.7655673519645",
         "0",
         "0.6",
         "318.72",
         "318.72",
         "2",
         "318.72"
        ],
        [
         "41",
         "42",
         "82",
         "41",
         "5",
         "1",
         "-418445.192",
         "-1235336.422",
         "318.35",
         "81.7664004284646",
         "0",
         "0.33",
         "318.72",
         "318.72",
         "2",
         "318.72"
        ],
        [
         "42",
         "43",
         "84",
         "42",
         "5",
         "2",
         "-418444.574",
         "-1235334.519",
         "318.36",
         "83.7672335049648",
         "0",
         "0.29",
         "318.74",
         "318.74",
         "2",
         "318.74"
        ],
        [
         "43",
         "44",
         "86",
         "43",
         "5",
         "3",
         "-418443.956",
         "-1235332.616",
         "318.38",
         "85.7680665814649",
         "0",
         "0.41",
         "318.71",
         "318.71",
         "2",
         "318.75"
        ],
        [
         "44",
         "45",
         "88",
         "44",
         "5",
         "4",
         "-418443.338",
         "-1235330.713",
         "318.39",
         "87.768899657965",
         "0",
         "0.02",
         "318.69",
         "318.69",
         "2",
         "318.69"
        ],
        [
         "45",
         "46",
         "90",
         "45",
         "5",
         "5",
         "-418442.72",
         "-1235328.81",
         "318.4",
         "89.7697327344651",
         "0",
         "0.39",
         "318.82",
         "318.82",
         "2",
         "318.7"
        ],
        [
         "46",
         "47",
         "92",
         "46",
         "5",
         "6",
         "-418442.114",
         "-1235326.924",
         "318.42",
         "91.7507001749142",
         "0",
         "0.33",
         "318.76",
         "318.76",
         "2",
         "318.81"
        ],
        [
         "47",
         "48",
         "94",
         "47",
         "5",
         "7",
         "-418441.508",
         "-1235325.038",
         "318.44",
         "93.7316676153632",
         "0",
         "0.38",
         "318.78",
         "318.78",
         "2",
         "318.73"
        ],
        [
         "48",
         "49",
         "96",
         "48",
         "6",
         "0",
         "-418440.902",
         "-1235323.152",
         "318.47",
         "95.7126350558122",
         "0",
         "0.64",
         "318.83",
         "318.83",
         "2",
         "318.78"
        ],
        [
         "49",
         "50",
         "98",
         "49",
         "6",
         "1",
         "-418440.296",
         "-1235321.266",
         "318.49",
         "97.6936024962612",
         "0",
         "0.43",
         "318.72",
         "318.72",
         "2",
         "318.72"
        ]
       ],
       "shape": {
        "columns": 15,
        "rows": 168
       }
      },
      "text/html": [
       "<div>\n",
       "<style scoped>\n",
       "    .dataframe tbody tr th:only-of-type {\n",
       "        vertical-align: middle;\n",
       "    }\n",
       "\n",
       "    .dataframe tbody tr th {\n",
       "        vertical-align: top;\n",
       "    }\n",
       "\n",
       "    .dataframe thead th {\n",
       "        text-align: right;\n",
       "    }\n",
       "</style>\n",
       "<table border=\"1\" class=\"dataframe\">\n",
       "  <thead>\n",
       "    <tr style=\"text-align: right;\">\n",
       "      <th></th>\n",
       "      <th>fid</th>\n",
       "      <th>ld</th>\n",
       "      <th>n_el</th>\n",
       "      <th>sec</th>\n",
       "      <th>n_sec</th>\n",
       "      <th>x</th>\n",
       "      <th>y</th>\n",
       "      <th>z0_topo</th>\n",
       "      <th>ld_hor</th>\n",
       "      <th>dtm</th>\n",
       "      <th>dtm_dist</th>\n",
       "      <th>z0_dtm</th>\n",
       "      <th>z0</th>\n",
       "      <th>ID_line</th>\n",
       "      <th>sampled</th>\n",
       "    </tr>\n",
       "  </thead>\n",
       "  <tbody>\n",
       "    <tr>\n",
       "      <th>0</th>\n",
       "      <td>1</td>\n",
       "      <td>0</td>\n",
       "      <td>0</td>\n",
       "      <td>0</td>\n",
       "      <td>0</td>\n",
       "      <td>-418473.570</td>\n",
       "      <td>-1235412.970</td>\n",
       "      <td>318.21</td>\n",
       "      <td>0.000000</td>\n",
       "      <td>0</td>\n",
       "      <td>0.27</td>\n",
       "      <td>318.76</td>\n",
       "      <td>318.76</td>\n",
       "      <td>2</td>\n",
       "      <td>318.67</td>\n",
       "    </tr>\n",
       "    <tr>\n",
       "      <th>1</th>\n",
       "      <td>2</td>\n",
       "      <td>2</td>\n",
       "      <td>1</td>\n",
       "      <td>0</td>\n",
       "      <td>1</td>\n",
       "      <td>-418472.688</td>\n",
       "      <td>-1235411.156</td>\n",
       "      <td>318.23</td>\n",
       "      <td>2.017057</td>\n",
       "      <td>0</td>\n",
       "      <td>0.49</td>\n",
       "      <td>318.73</td>\n",
       "      <td>318.73</td>\n",
       "      <td>2</td>\n",
       "      <td>318.68</td>\n",
       "    </tr>\n",
       "    <tr>\n",
       "      <th>2</th>\n",
       "      <td>3</td>\n",
       "      <td>4</td>\n",
       "      <td>2</td>\n",
       "      <td>0</td>\n",
       "      <td>2</td>\n",
       "      <td>-418471.806</td>\n",
       "      <td>-1235409.342</td>\n",
       "      <td>318.24</td>\n",
       "      <td>4.034115</td>\n",
       "      <td>0</td>\n",
       "      <td>0.61</td>\n",
       "      <td>318.68</td>\n",
       "      <td>318.68</td>\n",
       "      <td>2</td>\n",
       "      <td>318.68</td>\n",
       "    </tr>\n",
       "    <tr>\n",
       "      <th>3</th>\n",
       "      <td>4</td>\n",
       "      <td>6</td>\n",
       "      <td>3</td>\n",
       "      <td>0</td>\n",
       "      <td>3</td>\n",
       "      <td>-418470.924</td>\n",
       "      <td>-1235407.528</td>\n",
       "      <td>318.26</td>\n",
       "      <td>6.051172</td>\n",
       "      <td>0</td>\n",
       "      <td>0.52</td>\n",
       "      <td>318.69</td>\n",
       "      <td>318.69</td>\n",
       "      <td>2</td>\n",
       "      <td>318.64</td>\n",
       "    </tr>\n",
       "    <tr>\n",
       "      <th>4</th>\n",
       "      <td>5</td>\n",
       "      <td>8</td>\n",
       "      <td>4</td>\n",
       "      <td>0</td>\n",
       "      <td>4</td>\n",
       "      <td>-418470.042</td>\n",
       "      <td>-1235405.714</td>\n",
       "      <td>318.27</td>\n",
       "      <td>8.068229</td>\n",
       "      <td>0</td>\n",
       "      <td>0.34</td>\n",
       "      <td>318.74</td>\n",
       "      <td>318.74</td>\n",
       "      <td>2</td>\n",
       "      <td>318.74</td>\n",
       "    </tr>\n",
       "    <tr>\n",
       "      <th>...</th>\n",
       "      <td>...</td>\n",
       "      <td>...</td>\n",
       "      <td>...</td>\n",
       "      <td>...</td>\n",
       "      <td>...</td>\n",
       "      <td>...</td>\n",
       "      <td>...</td>\n",
       "      <td>...</td>\n",
       "      <td>...</td>\n",
       "      <td>...</td>\n",
       "      <td>...</td>\n",
       "      <td>...</td>\n",
       "      <td>...</td>\n",
       "      <td>...</td>\n",
       "      <td>...</td>\n",
       "    </tr>\n",
       "    <tr>\n",
       "      <th>163</th>\n",
       "      <td>164</td>\n",
       "      <td>326</td>\n",
       "      <td>163</td>\n",
       "      <td>20</td>\n",
       "      <td>3</td>\n",
       "      <td>-418401.926</td>\n",
       "      <td>-1235101.096</td>\n",
       "      <td>318.82</td>\n",
       "      <td>322.184752</td>\n",
       "      <td>0</td>\n",
       "      <td>0.55</td>\n",
       "      <td>319.29</td>\n",
       "      <td>319.29</td>\n",
       "      <td>2</td>\n",
       "      <td>319.21</td>\n",
       "    </tr>\n",
       "    <tr>\n",
       "      <th>164</th>\n",
       "      <td>165</td>\n",
       "      <td>328</td>\n",
       "      <td>164</td>\n",
       "      <td>20</td>\n",
       "      <td>4</td>\n",
       "      <td>-418401.883</td>\n",
       "      <td>-1235099.113</td>\n",
       "      <td>318.81</td>\n",
       "      <td>324.168218</td>\n",
       "      <td>0</td>\n",
       "      <td>0.57</td>\n",
       "      <td>319.33</td>\n",
       "      <td>319.33</td>\n",
       "      <td>2</td>\n",
       "      <td>319.20</td>\n",
       "    </tr>\n",
       "    <tr>\n",
       "      <th>165</th>\n",
       "      <td>166</td>\n",
       "      <td>330</td>\n",
       "      <td>165</td>\n",
       "      <td>20</td>\n",
       "      <td>5</td>\n",
       "      <td>-418401.840</td>\n",
       "      <td>-1235097.130</td>\n",
       "      <td>318.81</td>\n",
       "      <td>326.151684</td>\n",
       "      <td>0</td>\n",
       "      <td>0.59</td>\n",
       "      <td>319.33</td>\n",
       "      <td>319.33</td>\n",
       "      <td>2</td>\n",
       "      <td>319.25</td>\n",
       "    </tr>\n",
       "    <tr>\n",
       "      <th>166</th>\n",
       "      <td>167</td>\n",
       "      <td>332</td>\n",
       "      <td>166</td>\n",
       "      <td>20</td>\n",
       "      <td>6</td>\n",
       "      <td>-418401.825</td>\n",
       "      <td>-1235095.201</td>\n",
       "      <td>318.82</td>\n",
       "      <td>328.080743</td>\n",
       "      <td>0</td>\n",
       "      <td>0.56</td>\n",
       "      <td>319.28</td>\n",
       "      <td>319.28</td>\n",
       "      <td>2</td>\n",
       "      <td>319.24</td>\n",
       "    </tr>\n",
       "    <tr>\n",
       "      <th>167</th>\n",
       "      <td>168</td>\n",
       "      <td>334</td>\n",
       "      <td>167</td>\n",
       "      <td>20</td>\n",
       "      <td>7</td>\n",
       "      <td>-418401.810</td>\n",
       "      <td>-1235093.272</td>\n",
       "      <td>318.83</td>\n",
       "      <td>330.009801</td>\n",
       "      <td>0</td>\n",
       "      <td>0.54</td>\n",
       "      <td>319.37</td>\n",
       "      <td>319.37</td>\n",
       "      <td>2</td>\n",
       "      <td>319.26</td>\n",
       "    </tr>\n",
       "  </tbody>\n",
       "</table>\n",
       "<p>168 rows × 15 columns</p>\n",
       "</div>"
      ],
      "text/plain": [
       "     fid   ld  n_el  sec  n_sec           x            y  z0_topo      ld_hor  \\\n",
       "0      1    0     0    0      0 -418473.570 -1235412.970   318.21    0.000000   \n",
       "1      2    2     1    0      1 -418472.688 -1235411.156   318.23    2.017057   \n",
       "2      3    4     2    0      2 -418471.806 -1235409.342   318.24    4.034115   \n",
       "3      4    6     3    0      3 -418470.924 -1235407.528   318.26    6.051172   \n",
       "4      5    8     4    0      4 -418470.042 -1235405.714   318.27    8.068229   \n",
       "..   ...  ...   ...  ...    ...         ...          ...      ...         ...   \n",
       "163  164  326   163   20      3 -418401.926 -1235101.096   318.82  322.184752   \n",
       "164  165  328   164   20      4 -418401.883 -1235099.113   318.81  324.168218   \n",
       "165  166  330   165   20      5 -418401.840 -1235097.130   318.81  326.151684   \n",
       "166  167  332   166   20      6 -418401.825 -1235095.201   318.82  328.080743   \n",
       "167  168  334   167   20      7 -418401.810 -1235093.272   318.83  330.009801   \n",
       "\n",
       "     dtm  dtm_dist  z0_dtm      z0  ID_line  sampled  \n",
       "0      0      0.27  318.76  318.76        2   318.67  \n",
       "1      0      0.49  318.73  318.73        2   318.68  \n",
       "2      0      0.61  318.68  318.68        2   318.68  \n",
       "3      0      0.52  318.69  318.69        2   318.64  \n",
       "4      0      0.34  318.74  318.74        2   318.74  \n",
       "..   ...       ...     ...     ...      ...      ...  \n",
       "163    0      0.55  319.29  319.29        2   319.21  \n",
       "164    0      0.57  319.33  319.33        2   319.20  \n",
       "165    0      0.59  319.33  319.33        2   319.25  \n",
       "166    0      0.56  319.28  319.28        2   319.24  \n",
       "167    0      0.54  319.37  319.37        2   319.26  \n",
       "\n",
       "[168 rows x 15 columns]"
      ]
     },
     "execution_count": 2,
     "metadata": {},
     "output_type": "execute_result"
    }
   ],
   "source": [
    "import geopandas as gpd\n",
    "import pandas as pd\n",
    "import numpy as np\n",
    "import plotly.graph_objects as go\n",
    "\n",
    "fp = r\"C:\\Users\\adamg\\OneDrive\\04_BHF\\01_Projects\\2508_ERT_Vlkanova\\tmp\\dtm_test.csv\"\n",
    "df = pd.read_csv(fp)"
   ]
  },
  {
   "cell_type": "code",
   "execution_count": 31,
   "id": "e31ae047",
   "metadata": {},
   "outputs": [
    {
     "data": {
      "application/vnd.plotly.v1+json": {
       "config": {
        "plotlyServerURL": "https://plot.ly"
       },
       "data": [
        {
         "marker": {
          "size": 4
         },
         "mode": "markers",
         "name": "py",
         "type": "scatter",
         "x": {
          "bdata": "AAACAAQABgAIAAoADAAOABAAEgAUABYAGAAaABwAHgAgACIAJAAmACgAKgAsAC4AMAAyADQANgA4ADoAPAA+AEAAQgBEAEYASABKAEwATgBQAFIAVABWAFgAWgBcAF4AYABiAGQAZgBoAGoAbABuAHAAcgB0AHYAeAB6AHwAfgCAAIIAhACGAIgAigCMAI4AkACSAJQAlgCYAJoAnACeAKAAogCkAKYAqACqAKwArgCwALIAtAC2ALgAugC8AL4AwADCAMQAxgDIAMoAzADOANAA0gDUANYA2ADaANwA3gDgAOIA5ADmAOgA6gDsAO4A8ADyAPQA9gD4APoA/AD+AAABAgEEAQYBCAEKAQwBDgEQARIBFAEWARgBGgEcAR4BIAEiASQBJgEoASoBLAEuATABMgE0ATYBOAE6ATwBPgFAAUIBRAFGAUgBSgFMAU4B",
          "dtype": "i2"
         },
         "y": {
          "bdata": "XI/C9Sjsc0BI4XoUrutzQHsUrkfh6nNA16NwPQrrc0CkcD0K1+tzQOxRuB6F63NASOF6FK7rc0DsUbgehetzQLgehetR7HNAFK5H4Xrsc0AUrkfheuxzQJqZmZmZ7XNAw/UoXI/uc0BSuB6F6+1zQPYoXI/C7XNAw/UoXI/uc0CuR+F6FO5zQClcj8L17HNAZmZmZmbuc0BI4XoUru9zQGZmZmZm7nNASOF6FK7vc0BxPQrXo/BzQHE9Ctej8HNAcT0K16Pwc0BxPQrXo/BzQBSuR+F68HNA7FG4HoXvc0AfhetRuO5zQGZmZmZm7nNAXI/C9Sjsc0DsUbgehetzQKRwPQrX63NAhetRuB7tc0DNzMzMzOhzQOxRuB6F53NAAAAAAADoc0DhehSuR+lzQOxRuB6F63NACtejcD3qc0DsUbgehetzQOxRuB6F63NApHA9Ctfrc0CPwvUoXOtzQNejcD0K63NAhetRuB7tc0Bcj8L1KOxzQBSuR+F67HNA4XoUrkftc0DsUbgehetzQBSuR+F67HNASOF6FK7rc0CF61G4Hu1zQHE9Ctej7HNAAAAAAADsc0AAAAAAAOxzQEjhehSu63NA4XoUrkftc0CkcD0K1+tzQNejcD0K63NApHA9Ctfrc0AzMzMzM+tzQAAAAAAA7HNA7FG4HoXrc0CF61G4Hu1zQD0K16Nw7XNArkfhehTuc0AK16NwPe5zQMP1KFyP7nNACtejcD3uc0AK16NwPe5zQK5H4XoU7nNAexSuR+Huc0CamZmZme1zQPYoXI/C7XNA4XoUrkftc0B7FK5H4e5zQEjhehSu73NAzczMzMzwc0CF61G4HvFzQD0K16Nw8XNA4XoUrkfxc0D2KFyPwvFzQI/C9Shc83NAPQrXo3Dxc0D2KFyPwvFzQBSuR+F68HNA4XoUrkfxc0A9CtejcPFzQOxRuB6F73NAuB6F61Hwc0Bcj8L1KPBzQLgehetR8HNAPQrXo3Dxc0CkcD0K1/NzQPYoXI/C9XNAPQrXo3D1c0DsUbgehfNzQAAAAAAA9HNA4XoUrkfxc0BxPQrXo/BzQIXrUbge8XNAZmZmZmbyc0BmZmZmZvJzQFyPwvUo9HNAH4XrUbjyc0BmZmZmZvJzQFyPwvUo9HNAhetRuB71c0DNzMzMzPRzQPYoXI/C9XNAuB6F61H0c0C4HoXrUfRzQNejcD0K93NAexSuR+H2c0B7FK5H4fZzQK5H4XoU9nNA7FG4HoX3c0A9CtejcPVzQD0K16Nw9XNAw/UoXI/2c0AK16NwPfZzQK5H4XoU9nNAXI/C9Sj0c0CamZmZmfVzQM3MzMzM9HNA4XoUrkf1c0CF61G4HvVzQPYoXI/C9XNAcT0K16P0c0C4HoXrUfRzQM3MzMzM9HNA7FG4HoXzc0AUrkfhevRzQIXrUbge9XNAhetRuB71c0BI4XoUrvNzQHsUrkfh8nNAZmZmZmbyc0AzMzMzM/NzQClcj8L19HNApHA9Ctfzc0AUrkfhevRzQLgehetR9HNAFK5H4Xr0c0CF61G4HvVzQClcj8L19HNApHA9Ctfzc0DsUbgehfNzQOF6FK5H9XNA9ihcj8L1c0BSuB6F6/VzQPYoXI/C9XNACtejcD32c0A9CtejcPVzQM3MzMzM9HNAzczMzMz0c0CuR+F6FPZzQLgehetR9HNAzczMzMz0c0D2KFyPwvVzQFyPwvUo9HNA16NwPQrzc0BxPQrXo/RzQOF6FK5H9XNA4XoUrkf1c0AUrkfhevRzQFK4HoXr9XNA",
          "dtype": "f8"
         }
        },
        {
         "marker": {
          "size": 4
         },
         "mode": "markers",
         "name": "qgis",
         "type": "scatter",
         "x": {
          "bdata": "AAACAAQABgAIAAoADAAOABAAEgAUABYAGAAaABwAHgAgACIAJAAmACgAKgAsAC4AMAAyADQANgA4ADoAPAA+AEAAQgBEAEYASABKAEwATgBQAFIAVABWAFgAWgBcAF4AYABiAGQAZgBoAGoAbABuAHAAcgB0AHYAeAB6AHwAfgCAAIIAhACGAIgAigCMAI4AkACSAJQAlgCYAJoAnACeAKAAogCkAKYAqACqAKwArgCwALIAtAC2ALgAugC8AL4AwADCAMQAxgDIAMoAzADOANAA0gDUANYA2ADaANwA3gDgAOIA5ADmAOgA6gDsAO4A8ADyAPQA9gD4APoA/AD+AAABAgEEAQYBCAEKAQwBDgEQARIBFAEWARgBGgEcAR4BIAEiASQBJgEoASoBLAEuATABMgE0ATYBOAE6ATwBPgFAAUIBRAFGAUgBSgFMAU4B",
          "dtype": "i2"
         },
         "y": {
          "bdata": "H4XrUbjqc0B7FK5H4epzQHsUrkfh6nNACtejcD3qc0CkcD0K1+tzQEjhehSu63NA7FG4HoXrc0DsUbgehetzQLgehetR7HNAFK5H4Xrsc0CF61G4Hu1zQHE9Ctej7HNAH4XrUbjuc0BSuB6F6+1zQPYoXI/C7XNAw/UoXI/uc0CuR+F6FO5zQIXrUbge7XNA4XoUrkftc0DXo3A9Cu9zQArXo3A97nNASOF6FK7vc0BxPQrXo/BzQHE9Ctej8HNAcT0K16Pwc0C4HoXrUfBzQDMzMzMz73NAFK5H4Xrwc0DsUbgehe9zQArXo3A97nNAUrgehevtc0DsUbgehetzQLgehetR7HNAhetRuB7tc0DNzMzMzOhzQKRwPQrX53NAFK5H4Xroc0AUrkfheuhzQJqZmZmZ6XNACtejcD3qc0DsUbgehetzQOxRuB6F63NApHA9Ctfrc0AAAAAAAOxzQNejcD0K63NAMzMzMzPrc0ApXI/C9exzQEjhehSu63NAFK5H4Xrsc0DsUbgehetzQBSuR+F67HNASOF6FK7rc0CF61G4Hu1zQHE9Ctej7HNAuB6F61Hsc0CkcD0K1+tzQClcj8L17HNA7FG4HoXrc0CPwvUoXOtzQNejcD0K63NA16NwPQrrc0AzMzMzM+tzQGZmZmZm6nNA7FG4HoXrc0CF61G4Hu1zQD0K16Nw7XNArkfhehTuc0CamZmZme1zQFyPwvUo8HNAexSuR+Huc0CuR+F6FO5zQMP1KFyP7nNAexSuR+Huc0CamZmZme1zQPYoXI/C7XNA4XoUrkftc0B7FK5H4e5zQEjhehSu73NAzczMzMzwc0CF61G4HvFzQD0K16Nw8XNA16NwPQrvc0CuR+F6FPJzQKRwPQrX83NA7FG4HoXzc0D2KFyPwvFzQBSuR+F68HNA4XoUrkfxc0A9CtejcPFzQOxRuB6F73NAuB6F61Hwc0Bcj8L1KPBzQHE9Ctej8HNAPQrXo3Dxc0CkcD0K1/NzQEjhehSu83NAPQrXo3D1c0BxPQrXo/RzQAAAAAAA9HNA4XoUrkfxc0AUrkfhevBzQIXrUbge8XNAZmZmZmbyc0DsUbgehfNzQFyPwvUo9HNAH4XrUbjyc0BmZmZmZvJzQDMzMzMz83NAhetRuB71c0BI4XoUrvNzQHE9Ctej9HNA7FG4HoXzc0DNzMzMzPRzQM3MzMzM9HNAUrgehev1c0AzMzMzM/dzQMP1KFyP9nNAhetRuB71c0DXo3A9CvdzQPYoXI/C9XNArkfhehT2c0AK16NwPfZzQK5H4XoU9nNAXI/C9Sj0c0CamZmZmfVzQM3MzMzM9HNA4XoUrkf1c0BSuB6F6/VzQPYoXI/C9XNAcT0K16P0c0BxPQrXo/RzQBSuR+F69HNAFK5H4Xr0c0DhehSuR/VzQIXrUbge9XNAhetRuB71c0BI4XoUrvNzQHsUrkfh8nNAZmZmZmbyc0BmZmZmZvJzQClcj8L19HNApHA9Ctfzc0AUrkfhevRzQLgehetR9HNAFK5H4Xr0c0CF61G4HvVzQIXrUbge9XNApHA9Ctfzc0DsUbgehfNzQIXrUbge9XNAPQrXo3D1c0AAAAAAAPRzQK5H4XoU9nNACtejcD32c0A9CtejcPVzQIXrUbge9XNAFK5H4Xr0c0D2KFyPwvVzQLgehetR9HNAzczMzMz0c0D2KFyPwvVzQM3MzMzM9HNApHA9Ctfzc0CPwvUoXPNzQDMzMzMz83NAAAAAAAD0c0CkcD0K1/NzQFyPwvUo9HNA",
          "dtype": "f8"
         }
        },
        {
         "marker": {
          "size": 4
         },
         "mode": "markers",
         "name": "filt",
         "type": "scatter",
         "x": {
          "bdata": "AAACAAQABgAIAAoADAAOABAAEgAUABYAGAAaABwAHgAgACIAJAAmACgAKgAsAC4AMAAyADQANgA4ADoAPAA+AEAAQgBEAEYASABKAEwATgBQAFIAVABWAFgAWgBcAF4AYABiAGQAZgBoAGoAbABuAHAAcgB0AHYAeAB6AHwAfgCAAIIAhACGAIgAigCMAI4AkACSAJQAlgCYAJoAnACeAKAAogCkAKYAqACqAKwArgCwALIAtAC2ALgAugC8AL4AwADCAMQAxgDIAMoAzADOANAA0gDUANYA2ADaANwA3gDgAOIA5ADmAOgA6gDsAO4A8ADyAPQA9gD4APoA/AD+AAABAgEEAQYBCAEKAQwBDgEQARIBFAEWARgBGgEcAR4BIAEiASQBJgEoASoBLAEuATABMgE0ATYBOAE6ATwBPgFAAUIBRAFGAUgBSgFMAU4B",
          "dtype": "i2"
         },
         "y": {
          "bdata": "XI/C9Sjsc0BSuB6F6+tzQGAs+cWS63NAMzMzMzPrc0CnDXTaQOtzQHh3d3d363NASOF6FK7rc0BgLPnFkutzQKRwPQrX63NA6LSBThvsc0Cg0wY6bexzQEGnDXTa7HNAJb9Y8ovtc0A7baDTBu5zQK9H4XoU7nNArkfhehTuc0AiIiIiIu5zQN3d3d3d7XNAaQOdNtDtc0DziyW/WO5zQAc6baDT7nNApw102kDvc0BfLPnFku9zQLgehetR8HNAcT0K16Pwc0BxPQrXo/BzQP1iyS+W8HNA0GkDnTbwc0BgLPnFku9zQHsUrkfh7nNA9Shcj8Ltc0DlF0t+sexzQKRwPQrX63NAXI/C9Sjsc0CnDXTaQOtzQGoDnTbQ6XNA6LSBThvoc0BEREREROhzQJmZmZmZ6XNA84slv1jqc0BMfrHkF+tzQEx+seQX63NA1AY6baDrc0BfLPnFkutzQASdNtBp63NApHA9Ctfrc0DotIFOG+xzQPxiyS+W7HNAcD0K16Psc0Cg0wY6bexzQKDTBjpt7HNAGEt+seTrc0Ch0wY6bexzQBSuR+F67HNA/GLJL5bsc0DQaQOdNuxzQBhLfrHk63NAuR6F61Hsc0BEREREROxzQHTaQKcN7HNAYCz5xZLrc0CPwvUoXOtzQEjhehSu63NAYCz5xZLrc0DQaQOdNuxzQOUXS36x7HNAJb9Y8ovtc0BSuB6F6+1zQH+x5BdL7nNA84slv1juc0DziyW/WO5zQJX8Yskv7nNAZ2ZmZmbuc0CW/GLJL+5zQK5H4XoU7nNAJb9Y8ovtc0DGkl8s+e1zQDfQaQOd7nNAMJb8Ysnvc0CJiIiIiPBzQIXrUbge8XNA4XoUrkfxc0Cx5BdLfvFzQCMiIiIi8nNAlvxiyS/yc0CW/GLJL/JzQG2g0wY68XNA+cWSXyzxc0AREREREfFzQFnyiyW/8HNAoNMGOm3wc0AAAAAAAPBzQERERERE8HNAcD0K16Pwc0Dd3d3d3fFzQEjhehSu83NAnTbQaQP1c0C1gU4b6PRzQLgehetR9HNA7+7u7u7yc0DGkl8s+fFzQJ020GkD8XNAyS+W/GLxc0DFkl8s+fFzQGPJL5b88nNAS36x5Bfzc0BLfrHkF/NzQEt+seQX83NAGEt+seTzc0DlF0t+sfRzQG2g0wY69XNAKVyPwvX0c0DNzMzMzPRzQG2g0wY69XNArkfhehT2c0Dv7u7u7vZzQDfQaQOd9nNABzptoNP2c0DyiyW/WPZzQCEiIiIi9nNAaQOdNtD1c0CuR+F6FPZzQH6x5BdL9nNAseQXS371c0DhehSuR/VzQEGnDXTa9HNAbaDTBjr1c0AREREREfVzQMkvlvxi9XNA+cWSXyz1c0C1gU4b6PRzQPxiyS+W9HNA0GkDnTb0c0BERERERPRzQC35xZJf9HNAtIFOG+j0c0BwPQrXo/RzQBhLfrHk83NAY8kvlvzyc0AHOm2g0/JzQOtRuB6F83NAAAAAAAD0c0Cg0wY6bfRzQNBpA5029HNAoNMGOm30c0BwPQrXo/RzQEGnDXTa9HNAcT0K16P0c0DotIFOG/RzQNBpA5029HNAQacNdNr0c0ANdNpAp/VzQGsDnTbQ9XNAxZJfLPn1c0BqA5020PVzQLHkF0t+9XNAnTbQaQP1c0BtoNMGOvVzQBERERER9XNAERERERH1c0ApXI/C9fRzQLWBThvo9HNAuR6F61H0c0CMJb9Y8vNzQLkehetR9HNAERERERH1c0CdNtBpA/VzQG2g0wY69XNA",
          "dtype": "f8"
         }
        }
       ],
       "layout": {
        "template": {
         "data": {
          "bar": [
           {
            "error_x": {
             "color": "#2a3f5f"
            },
            "error_y": {
             "color": "#2a3f5f"
            },
            "marker": {
             "line": {
              "color": "#E5ECF6",
              "width": 0.5
             },
             "pattern": {
              "fillmode": "overlay",
              "size": 10,
              "solidity": 0.2
             }
            },
            "type": "bar"
           }
          ],
          "barpolar": [
           {
            "marker": {
             "line": {
              "color": "#E5ECF6",
              "width": 0.5
             },
             "pattern": {
              "fillmode": "overlay",
              "size": 10,
              "solidity": 0.2
             }
            },
            "type": "barpolar"
           }
          ],
          "carpet": [
           {
            "aaxis": {
             "endlinecolor": "#2a3f5f",
             "gridcolor": "white",
             "linecolor": "white",
             "minorgridcolor": "white",
             "startlinecolor": "#2a3f5f"
            },
            "baxis": {
             "endlinecolor": "#2a3f5f",
             "gridcolor": "white",
             "linecolor": "white",
             "minorgridcolor": "white",
             "startlinecolor": "#2a3f5f"
            },
            "type": "carpet"
           }
          ],
          "choropleth": [
           {
            "colorbar": {
             "outlinewidth": 0,
             "ticks": ""
            },
            "type": "choropleth"
           }
          ],
          "contour": [
           {
            "colorbar": {
             "outlinewidth": 0,
             "ticks": ""
            },
            "colorscale": [
             [
              0,
              "#0d0887"
             ],
             [
              0.1111111111111111,
              "#46039f"
             ],
             [
              0.2222222222222222,
              "#7201a8"
             ],
             [
              0.3333333333333333,
              "#9c179e"
             ],
             [
              0.4444444444444444,
              "#bd3786"
             ],
             [
              0.5555555555555556,
              "#d8576b"
             ],
             [
              0.6666666666666666,
              "#ed7953"
             ],
             [
              0.7777777777777778,
              "#fb9f3a"
             ],
             [
              0.8888888888888888,
              "#fdca26"
             ],
             [
              1,
              "#f0f921"
             ]
            ],
            "type": "contour"
           }
          ],
          "contourcarpet": [
           {
            "colorbar": {
             "outlinewidth": 0,
             "ticks": ""
            },
            "type": "contourcarpet"
           }
          ],
          "heatmap": [
           {
            "colorbar": {
             "outlinewidth": 0,
             "ticks": ""
            },
            "colorscale": [
             [
              0,
              "#0d0887"
             ],
             [
              0.1111111111111111,
              "#46039f"
             ],
             [
              0.2222222222222222,
              "#7201a8"
             ],
             [
              0.3333333333333333,
              "#9c179e"
             ],
             [
              0.4444444444444444,
              "#bd3786"
             ],
             [
              0.5555555555555556,
              "#d8576b"
             ],
             [
              0.6666666666666666,
              "#ed7953"
             ],
             [
              0.7777777777777778,
              "#fb9f3a"
             ],
             [
              0.8888888888888888,
              "#fdca26"
             ],
             [
              1,
              "#f0f921"
             ]
            ],
            "type": "heatmap"
           }
          ],
          "histogram": [
           {
            "marker": {
             "pattern": {
              "fillmode": "overlay",
              "size": 10,
              "solidity": 0.2
             }
            },
            "type": "histogram"
           }
          ],
          "histogram2d": [
           {
            "colorbar": {
             "outlinewidth": 0,
             "ticks": ""
            },
            "colorscale": [
             [
              0,
              "#0d0887"
             ],
             [
              0.1111111111111111,
              "#46039f"
             ],
             [
              0.2222222222222222,
              "#7201a8"
             ],
             [
              0.3333333333333333,
              "#9c179e"
             ],
             [
              0.4444444444444444,
              "#bd3786"
             ],
             [
              0.5555555555555556,
              "#d8576b"
             ],
             [
              0.6666666666666666,
              "#ed7953"
             ],
             [
              0.7777777777777778,
              "#fb9f3a"
             ],
             [
              0.8888888888888888,
              "#fdca26"
             ],
             [
              1,
              "#f0f921"
             ]
            ],
            "type": "histogram2d"
           }
          ],
          "histogram2dcontour": [
           {
            "colorbar": {
             "outlinewidth": 0,
             "ticks": ""
            },
            "colorscale": [
             [
              0,
              "#0d0887"
             ],
             [
              0.1111111111111111,
              "#46039f"
             ],
             [
              0.2222222222222222,
              "#7201a8"
             ],
             [
              0.3333333333333333,
              "#9c179e"
             ],
             [
              0.4444444444444444,
              "#bd3786"
             ],
             [
              0.5555555555555556,
              "#d8576b"
             ],
             [
              0.6666666666666666,
              "#ed7953"
             ],
             [
              0.7777777777777778,
              "#fb9f3a"
             ],
             [
              0.8888888888888888,
              "#fdca26"
             ],
             [
              1,
              "#f0f921"
             ]
            ],
            "type": "histogram2dcontour"
           }
          ],
          "mesh3d": [
           {
            "colorbar": {
             "outlinewidth": 0,
             "ticks": ""
            },
            "type": "mesh3d"
           }
          ],
          "parcoords": [
           {
            "line": {
             "colorbar": {
              "outlinewidth": 0,
              "ticks": ""
             }
            },
            "type": "parcoords"
           }
          ],
          "pie": [
           {
            "automargin": true,
            "type": "pie"
           }
          ],
          "scatter": [
           {
            "fillpattern": {
             "fillmode": "overlay",
             "size": 10,
             "solidity": 0.2
            },
            "type": "scatter"
           }
          ],
          "scatter3d": [
           {
            "line": {
             "colorbar": {
              "outlinewidth": 0,
              "ticks": ""
             }
            },
            "marker": {
             "colorbar": {
              "outlinewidth": 0,
              "ticks": ""
             }
            },
            "type": "scatter3d"
           }
          ],
          "scattercarpet": [
           {
            "marker": {
             "colorbar": {
              "outlinewidth": 0,
              "ticks": ""
             }
            },
            "type": "scattercarpet"
           }
          ],
          "scattergeo": [
           {
            "marker": {
             "colorbar": {
              "outlinewidth": 0,
              "ticks": ""
             }
            },
            "type": "scattergeo"
           }
          ],
          "scattergl": [
           {
            "marker": {
             "colorbar": {
              "outlinewidth": 0,
              "ticks": ""
             }
            },
            "type": "scattergl"
           }
          ],
          "scattermap": [
           {
            "marker": {
             "colorbar": {
              "outlinewidth": 0,
              "ticks": ""
             }
            },
            "type": "scattermap"
           }
          ],
          "scattermapbox": [
           {
            "marker": {
             "colorbar": {
              "outlinewidth": 0,
              "ticks": ""
             }
            },
            "type": "scattermapbox"
           }
          ],
          "scatterpolar": [
           {
            "marker": {
             "colorbar": {
              "outlinewidth": 0,
              "ticks": ""
             }
            },
            "type": "scatterpolar"
           }
          ],
          "scatterpolargl": [
           {
            "marker": {
             "colorbar": {
              "outlinewidth": 0,
              "ticks": ""
             }
            },
            "type": "scatterpolargl"
           }
          ],
          "scatterternary": [
           {
            "marker": {
             "colorbar": {
              "outlinewidth": 0,
              "ticks": ""
             }
            },
            "type": "scatterternary"
           }
          ],
          "surface": [
           {
            "colorbar": {
             "outlinewidth": 0,
             "ticks": ""
            },
            "colorscale": [
             [
              0,
              "#0d0887"
             ],
             [
              0.1111111111111111,
              "#46039f"
             ],
             [
              0.2222222222222222,
              "#7201a8"
             ],
             [
              0.3333333333333333,
              "#9c179e"
             ],
             [
              0.4444444444444444,
              "#bd3786"
             ],
             [
              0.5555555555555556,
              "#d8576b"
             ],
             [
              0.6666666666666666,
              "#ed7953"
             ],
             [
              0.7777777777777778,
              "#fb9f3a"
             ],
             [
              0.8888888888888888,
              "#fdca26"
             ],
             [
              1,
              "#f0f921"
             ]
            ],
            "type": "surface"
           }
          ],
          "table": [
           {
            "cells": {
             "fill": {
              "color": "#EBF0F8"
             },
             "line": {
              "color": "white"
             }
            },
            "header": {
             "fill": {
              "color": "#C8D4E3"
             },
             "line": {
              "color": "white"
             }
            },
            "type": "table"
           }
          ]
         },
         "layout": {
          "annotationdefaults": {
           "arrowcolor": "#2a3f5f",
           "arrowhead": 0,
           "arrowwidth": 1
          },
          "autotypenumbers": "strict",
          "coloraxis": {
           "colorbar": {
            "outlinewidth": 0,
            "ticks": ""
           }
          },
          "colorscale": {
           "diverging": [
            [
             0,
             "#8e0152"
            ],
            [
             0.1,
             "#c51b7d"
            ],
            [
             0.2,
             "#de77ae"
            ],
            [
             0.3,
             "#f1b6da"
            ],
            [
             0.4,
             "#fde0ef"
            ],
            [
             0.5,
             "#f7f7f7"
            ],
            [
             0.6,
             "#e6f5d0"
            ],
            [
             0.7,
             "#b8e186"
            ],
            [
             0.8,
             "#7fbc41"
            ],
            [
             0.9,
             "#4d9221"
            ],
            [
             1,
             "#276419"
            ]
           ],
           "sequential": [
            [
             0,
             "#0d0887"
            ],
            [
             0.1111111111111111,
             "#46039f"
            ],
            [
             0.2222222222222222,
             "#7201a8"
            ],
            [
             0.3333333333333333,
             "#9c179e"
            ],
            [
             0.4444444444444444,
             "#bd3786"
            ],
            [
             0.5555555555555556,
             "#d8576b"
            ],
            [
             0.6666666666666666,
             "#ed7953"
            ],
            [
             0.7777777777777778,
             "#fb9f3a"
            ],
            [
             0.8888888888888888,
             "#fdca26"
            ],
            [
             1,
             "#f0f921"
            ]
           ],
           "sequentialminus": [
            [
             0,
             "#0d0887"
            ],
            [
             0.1111111111111111,
             "#46039f"
            ],
            [
             0.2222222222222222,
             "#7201a8"
            ],
            [
             0.3333333333333333,
             "#9c179e"
            ],
            [
             0.4444444444444444,
             "#bd3786"
            ],
            [
             0.5555555555555556,
             "#d8576b"
            ],
            [
             0.6666666666666666,
             "#ed7953"
            ],
            [
             0.7777777777777778,
             "#fb9f3a"
            ],
            [
             0.8888888888888888,
             "#fdca26"
            ],
            [
             1,
             "#f0f921"
            ]
           ]
          },
          "colorway": [
           "#636efa",
           "#EF553B",
           "#00cc96",
           "#ab63fa",
           "#FFA15A",
           "#19d3f3",
           "#FF6692",
           "#B6E880",
           "#FF97FF",
           "#FECB52"
          ],
          "font": {
           "color": "#2a3f5f"
          },
          "geo": {
           "bgcolor": "white",
           "lakecolor": "white",
           "landcolor": "#E5ECF6",
           "showlakes": true,
           "showland": true,
           "subunitcolor": "white"
          },
          "hoverlabel": {
           "align": "left"
          },
          "hovermode": "closest",
          "mapbox": {
           "style": "light"
          },
          "paper_bgcolor": "white",
          "plot_bgcolor": "#E5ECF6",
          "polar": {
           "angularaxis": {
            "gridcolor": "white",
            "linecolor": "white",
            "ticks": ""
           },
           "bgcolor": "#E5ECF6",
           "radialaxis": {
            "gridcolor": "white",
            "linecolor": "white",
            "ticks": ""
           }
          },
          "scene": {
           "xaxis": {
            "backgroundcolor": "#E5ECF6",
            "gridcolor": "white",
            "gridwidth": 2,
            "linecolor": "white",
            "showbackground": true,
            "ticks": "",
            "zerolinecolor": "white"
           },
           "yaxis": {
            "backgroundcolor": "#E5ECF6",
            "gridcolor": "white",
            "gridwidth": 2,
            "linecolor": "white",
            "showbackground": true,
            "ticks": "",
            "zerolinecolor": "white"
           },
           "zaxis": {
            "backgroundcolor": "#E5ECF6",
            "gridcolor": "white",
            "gridwidth": 2,
            "linecolor": "white",
            "showbackground": true,
            "ticks": "",
            "zerolinecolor": "white"
           }
          },
          "shapedefaults": {
           "line": {
            "color": "#2a3f5f"
           }
          },
          "ternary": {
           "aaxis": {
            "gridcolor": "white",
            "linecolor": "white",
            "ticks": ""
           },
           "baxis": {
            "gridcolor": "white",
            "linecolor": "white",
            "ticks": ""
           },
           "bgcolor": "#E5ECF6",
           "caxis": {
            "gridcolor": "white",
            "linecolor": "white",
            "ticks": ""
           }
          },
          "title": {
           "x": 0.05
          },
          "xaxis": {
           "automargin": true,
           "gridcolor": "white",
           "linecolor": "white",
           "ticks": "",
           "title": {
            "standoff": 15
           },
           "zerolinecolor": "white",
           "zerolinewidth": 2
          },
          "yaxis": {
           "automargin": true,
           "gridcolor": "white",
           "linecolor": "white",
           "ticks": "",
           "title": {
            "standoff": 15
           },
           "zerolinecolor": "white",
           "zerolinewidth": 2
          }
         }
        },
        "yaxis": {
         "scaleanchor": "x",
         "scaleratio": 10
        }
       }
      }
     },
     "metadata": {},
     "output_type": "display_data"
    }
   ],
   "source": [
    "x = df[\"ld\"]\n",
    "diff = df[\"z0_dtm\"] - df[\"sampled\"]\n",
    "filtered = df[\"z0_dtm\"].rolling(window=3, min_periods=1).mean()\n",
    "fig = go.Figure()\n",
    "plt = []\n",
    "marker = dict(size=4)\n",
    "plt.append(go.Scatter(x=x, y=df[\"z0_dtm\"], mode=\"markers\", marker=marker, name=\"py\"))\n",
    "plt.append(go.Scatter(x=x, y=df[\"sampled\"], mode=\"markers\", marker=marker, name=\"qgis\"))\n",
    "plt.append(go.Scatter(x=x, y=filtered, mode=\"markers\", marker=marker, name=\"filt\"))\n",
    "fig.add_traces(plt)\n",
    "\n",
    "fig.update_yaxes(scaleanchor=\"x1\", scaleratio=10)"
   ]
  },
  {
   "cell_type": "code",
   "execution_count": 32,
   "id": "cb22f3ed",
   "metadata": {},
   "outputs": [
    {
     "data": {
      "application/vnd.plotly.v1+json": {
       "config": {
        "plotlyServerURL": "https://plot.ly"
       },
       "data": [
        {
         "type": "scatter",
         "x": {
          "bdata": "AAACAAQABgAIAAoADAAOABAAEgAUABYAGAAaABwAHgAgACIAJAAmACgAKgAsAC4AMAAyADQANgA4ADoAPAA+AEAAQgBEAEYASABKAEwATgBQAFIAVABWAFgAWgBcAF4AYABiAGQAZgBoAGoAbABuAHAAcgB0AHYAeAB6AHwAfgCAAIIAhACGAIgAigCMAI4AkACSAJQAlgCYAJoAnACeAKAAogCkAKYAqACqAKwArgCwALIAtAC2ALgAugC8AL4AwADCAMQAxgDIAMoAzADOANAA0gDUANYA2ADaANwA3gDgAOIA5ADmAOgA6gDsAO4A8ADyAPQA9gD4APoA/AD+AAABAgEEAQYBCAEKAQwBDgEQARIBFAEWARgBGgEcAR4BIAEiASQBJgEoASoBLAEuATABMgE0ATYBOAE6ATwBPgFAAUIBRAFGAUgBSgFMAU4B",
          "dtype": "i2"
         },
         "y": {
          "bdata": "ANCjcD0Ktz8AoJmZmZmpPwAAAAAAAAAAAKCZmZmZqT8AAAAAAAAAAAAArkfheoS/AACuR+F6hD8AAAAAAAAAAAAAAAAAAAAAAAAAAAAAAAAAIK5H4XqkvwAghetRuK4/AACuR+F6hL8AAAAAAAAAAAAAAAAAAAAAAAAAAAAAAAAAAAAAAAAAAAAArkfheoS/AFC4HoXrsT8AIK5H4XqkPwAArkfheoQ/AAAAAAAAAAAAAAAAAAAAAAAAAAAAAAAAAAAAAAAAAAAAQK5H4XqUPwAQrkfherQ/AACF61G4rr8AoJmZmZmpvwAArkfheoQ/AGCPwvUovL8AAAAAAAAAAAAAhetRuJ6/AAAAAAAAAAAAAAAAAAAAAAAArkfhepS/AACF61G4nr8AoJmZmZmpPwAghetRuL4/AAAAAAAAAAAAAAAAAAAAAAAAAAAAAAAAAAAAAAAAAAAAIK5H4XqkvwAAAAAAAAAAACCF61G4vj8AoJmZmZmpvwCAmZmZmak/AKCZmZmZqT8AAAAAAAAAAAAAAAAAAAAAAAAAAAAAAAAAAAAAAAAAAAAAAAAAAAAAAACuR+F6lL8AAK5H4XqEPwAQrkfherS/AFCPwvUovD8AQIXrUbiePwAAAAAAAAAAAKCZmZmZqT8AAAAAAAAAAACgmZmZmbk/AAAAAAAAAAAAAAAAAAAAAAAAAAAAAAAAAAAAAAAAAAAAAK5H4XqkPwCQmZmZmbm/ACCuR+F6pL8AAK5H4XqEPwBAhetRuJ6/AAAAAAAAAAAAAAAAAAAAAAAAAAAAAAAAAAAAAAAAAAAAAAAAAAAAAAAAAAAAAAAAAAAAAAAAAAAAAAAAAAAAAAAAAAAAAAAAAFC4HoXrwT8AAK5H4XqUvwBAhetRuJ6/AHg9CtejwL8AAAAAAAAAAAAAAAAAAAAAAAAAAAAAAAAAAAAAAAAAAAAAAAAAAAAAAAAAAAAAAAAAAAAAAAAAAABArkfhepS/AAAAAAAAAAAAAAAAAAAAAABwPQrXo8A/AAAAAAAAAAAAULgeheuxvwAAAAAAAAAAAAAAAAAAAAAAgK5H4XqEPwAAAAAAAAAAAAAAAAAAAAAAYLgeheuxvwAAAAAAAAAAAAAAAAAAAAAAAAAAAAAAAAAghetRuK4/AAAAAAAAAAAAULgeheuxPwBQuB6F67E/AICZmZmZqT8AQIXrUbievwBQuB6F68E/ACCF61G4rj8AAK5H4XqUvwBAhetRuJ6/ADgzMzMzwz8AoJmZmZm5vwBArkfhepS/AECF61G4nj8AAAAAAAAAAAAAAAAAAAAAAAAAAAAAAAAAAAAAAAAAAAAAAAAAAAAAAAAAAAAAAAAAoJmZmZmpvwAAAAAAAAAAAAAAAAAAAAAAQK5H4XqUvwBArkfhepQ/AACF61G4rr8AoJmZmZmpvwAAAAAAAAAAAAAAAAAAAAAAAAAAAAAAAAAAAAAAAAAAAAAAAAAAAAAAoJmZmZmpPwAAAAAAAAAAAAAAAAAAAAAAAAAAAAAAAAAAAAAAAAAAAAAAAAAAAAAAAAAAAAAAAAAArkfheoS/AAAAAAAAAAAAAAAAAAAAAAAArkfheoQ/AECuR+F6lD8AIIXrUbi+PwAArkfhepS/AAAAAAAAAAAAAAAAAAAAAAAArkfhepS/AECuR+F6lD8AAK5H4XqUPwAAAAAAAAAAAAAAAAAAAAAAAAAAAAAAAAAgrkfheqS/AKCZmZmZqb8AIK5H4Xq0PwBwPQrXo8A/ABCuR+F6tD8AAK5H4XqkPwBgj8L1KLw/",
          "dtype": "f8"
         }
        },
        {
         "type": "scatter",
         "x": {
          "bdata": "AAACAAQABgAIAAoADAAOABAAEgAUABYAGAAaABwAHgAgACIAJAAmACgAKgAsAC4AMAAyADQANgA4ADoAPAA+AEAAQgBEAEYASABKAEwATgBQAFIAVABWAFgAWgBcAF4AYABiAGQAZgBoAGoAbABuAHAAcgB0AHYAeAB6AHwAfgCAAIIAhACGAIgAigCMAI4AkACSAJQAlgCYAJoAnACeAKAAogCkAKYAqACqAKwArgCwALIAtAC2ALgAugC8AL4AwADCAMQAxgDIAMoAzADOANAA0gDUANYA2ADaANwA3gDgAOIA5ADmAOgA6gDsAO4A8ADyAPQA9gD4APoA/AD+AAABAgEEAQYBCAEKAQwBDgEQARIBFAEWARgBGgEcAR4BIAEiASQBJgEoASoBLAEuATABMgE0ATYBOAE6ATwBPgFAAUIBRAFGAUgBSgFMAU4B",
          "dtype": "i2"
         },
         "y": {
          "bdata": "ANCjcD0Ktz8AcD0K16OwPwCg/GLJL6Y/ACCF61G4rj8AoF8s+cWivwAA6LSBTou/AACuR+F6hD8AAOi0gU5rPwAAhetRuJ6/AABLfrHkl78AoPxiyS+mvwAA6LSBTos/AKBfLPnFsr8AAOm0gU57PwBArkfhepQ/AECF61G4nr8AAOi0gU5rPwAAS36x5Kc/AAARERERoT8AgPxiyS+mvwCgXyz5xaI/AEDotIFOm78AIBERERGxvwBArkfhepS/AAAAAAAAAAAAQK5H4XqUPwCg/GLJL7Y/AAARERERkb8AAOi0gU5rPwAgrkfheqQ/AICuR+F6hL8AkF8s+cWyPwAAhetRuJ6/ACCF61G4rr8A0AY6baDDPwBgLPnFkr8/AABLfrHkl78AAOi0gU6LvwAAAAAAADC9AADptIFOez8AAOi0gU6bvwAA6LSBTpu/AADotIFOi78AQOi0gU6bvwBAS36x5Jc/ACCuR+F6pD8AIOi0gU6rvwCANtBpA60/AACuR+F6hD8AgDbQaQOtPwAA6LSBTmu/AADotIFOiz8AgPxiyS+mvwCArkfheoS/AAARERERkT8AAEt+seSXPwAQEREREbG/AKCZmZmZqT8AoDbQaQOtPwDQaQOdNrA/ACARERERoT8AAK5H4XqEPwAgrkfherQ/AADotIFOaz8AoDbQaQOtvwAAS36x5Ke/ACARERERob8AAK5H4XqUPwDQ3d3d3b2/AAARERERob8AQBERERGRPwCAS36x5Je/AACF61G4nr8AgF8s+cWiPwAArkfhepQ/AAARERERkT8AoDbQaQOtvwAQEREREbG/ANBpA502sL8AgF8s+cWivwAArkfhepS/AFC4HoXrwT8AoF8s+cWivwAQ6LSBTru/AGBVVVVVtb8AAOi0gU6bPwAgS36x5Kc/AADotIFOe78AAEt+seSXvwDQBjptoLM/AADotIFOez8AAK5H4XqEvwBAS36x5Je/AKCZmZmZqb8AcCz5xZK/vwAAAAAAAAAAAADotIFOm78AABERERGRPwAArkfhepQ/AOBApw10uj8AIEt+seS3PwAA6LSBTnu/ANBpA502sL8AcPKLJb+4vwCQXyz5xbK/AABLfrHklz8AoPxiyS+mPwAA6LSBTnu/ANAGOm2gs78A0GkDnTawPwCAXyz5xaI/ANCjcD0Ktz8AAAAAAAAAAAAA6LSBTps/AACuR+F6hD8AABERERGRvwAA6LSBTms/ACDotIFOuz8AoPxiyS+mvwDASn6x5Jc/AEARERERkb8AAK5H4XqEvwAA6LSBTos/AFBVVVVVtT8AQK5H4XqUvwAA6LSBTms/AADotIFOa78AIOi0gU6rvwBAS36x5Je/AAARERERoT8AABERERGRPwAA6LSBTns/AAARERERkb8A0GkDnTawvwAAS36x5Ke/AIDotIFOi78AAIXrUbiuPwDQaQOdNrA/AKBfLPnFoj8AQOi0gU6bPwDgo3A9Cre/AACuR+F6hD8AAOi0gU5rvwAA6LSBTnu/AADotIFOa78AQIXrUbievwAAEREREZG/AKCZmZmZqT8AgF8s+cWiPwCgNtBpA62/AIBfLPnFor8A0ECnDXS6PwDAEBEREZG/AEARERERkb8AQEt+seSXPwAAS36x5Jc/ACARERERoT8AIBERERGhvwAgS36x5Kc/AAARERERkT8AoJmZmZmpvwAA6LSBTns/AECF61G4nj8AoF8s+cWiPwBguB6F67E/ABARERERsT8AkF8s+cWyPwAQEREREbE/",
          "dtype": "f8"
         }
        }
       ],
       "layout": {
        "template": {
         "data": {
          "bar": [
           {
            "error_x": {
             "color": "#2a3f5f"
            },
            "error_y": {
             "color": "#2a3f5f"
            },
            "marker": {
             "line": {
              "color": "#E5ECF6",
              "width": 0.5
             },
             "pattern": {
              "fillmode": "overlay",
              "size": 10,
              "solidity": 0.2
             }
            },
            "type": "bar"
           }
          ],
          "barpolar": [
           {
            "marker": {
             "line": {
              "color": "#E5ECF6",
              "width": 0.5
             },
             "pattern": {
              "fillmode": "overlay",
              "size": 10,
              "solidity": 0.2
             }
            },
            "type": "barpolar"
           }
          ],
          "carpet": [
           {
            "aaxis": {
             "endlinecolor": "#2a3f5f",
             "gridcolor": "white",
             "linecolor": "white",
             "minorgridcolor": "white",
             "startlinecolor": "#2a3f5f"
            },
            "baxis": {
             "endlinecolor": "#2a3f5f",
             "gridcolor": "white",
             "linecolor": "white",
             "minorgridcolor": "white",
             "startlinecolor": "#2a3f5f"
            },
            "type": "carpet"
           }
          ],
          "choropleth": [
           {
            "colorbar": {
             "outlinewidth": 0,
             "ticks": ""
            },
            "type": "choropleth"
           }
          ],
          "contour": [
           {
            "colorbar": {
             "outlinewidth": 0,
             "ticks": ""
            },
            "colorscale": [
             [
              0,
              "#0d0887"
             ],
             [
              0.1111111111111111,
              "#46039f"
             ],
             [
              0.2222222222222222,
              "#7201a8"
             ],
             [
              0.3333333333333333,
              "#9c179e"
             ],
             [
              0.4444444444444444,
              "#bd3786"
             ],
             [
              0.5555555555555556,
              "#d8576b"
             ],
             [
              0.6666666666666666,
              "#ed7953"
             ],
             [
              0.7777777777777778,
              "#fb9f3a"
             ],
             [
              0.8888888888888888,
              "#fdca26"
             ],
             [
              1,
              "#f0f921"
             ]
            ],
            "type": "contour"
           }
          ],
          "contourcarpet": [
           {
            "colorbar": {
             "outlinewidth": 0,
             "ticks": ""
            },
            "type": "contourcarpet"
           }
          ],
          "heatmap": [
           {
            "colorbar": {
             "outlinewidth": 0,
             "ticks": ""
            },
            "colorscale": [
             [
              0,
              "#0d0887"
             ],
             [
              0.1111111111111111,
              "#46039f"
             ],
             [
              0.2222222222222222,
              "#7201a8"
             ],
             [
              0.3333333333333333,
              "#9c179e"
             ],
             [
              0.4444444444444444,
              "#bd3786"
             ],
             [
              0.5555555555555556,
              "#d8576b"
             ],
             [
              0.6666666666666666,
              "#ed7953"
             ],
             [
              0.7777777777777778,
              "#fb9f3a"
             ],
             [
              0.8888888888888888,
              "#fdca26"
             ],
             [
              1,
              "#f0f921"
             ]
            ],
            "type": "heatmap"
           }
          ],
          "histogram": [
           {
            "marker": {
             "pattern": {
              "fillmode": "overlay",
              "size": 10,
              "solidity": 0.2
             }
            },
            "type": "histogram"
           }
          ],
          "histogram2d": [
           {
            "colorbar": {
             "outlinewidth": 0,
             "ticks": ""
            },
            "colorscale": [
             [
              0,
              "#0d0887"
             ],
             [
              0.1111111111111111,
              "#46039f"
             ],
             [
              0.2222222222222222,
              "#7201a8"
             ],
             [
              0.3333333333333333,
              "#9c179e"
             ],
             [
              0.4444444444444444,
              "#bd3786"
             ],
             [
              0.5555555555555556,
              "#d8576b"
             ],
             [
              0.6666666666666666,
              "#ed7953"
             ],
             [
              0.7777777777777778,
              "#fb9f3a"
             ],
             [
              0.8888888888888888,
              "#fdca26"
             ],
             [
              1,
              "#f0f921"
             ]
            ],
            "type": "histogram2d"
           }
          ],
          "histogram2dcontour": [
           {
            "colorbar": {
             "outlinewidth": 0,
             "ticks": ""
            },
            "colorscale": [
             [
              0,
              "#0d0887"
             ],
             [
              0.1111111111111111,
              "#46039f"
             ],
             [
              0.2222222222222222,
              "#7201a8"
             ],
             [
              0.3333333333333333,
              "#9c179e"
             ],
             [
              0.4444444444444444,
              "#bd3786"
             ],
             [
              0.5555555555555556,
              "#d8576b"
             ],
             [
              0.6666666666666666,
              "#ed7953"
             ],
             [
              0.7777777777777778,
              "#fb9f3a"
             ],
             [
              0.8888888888888888,
              "#fdca26"
             ],
             [
              1,
              "#f0f921"
             ]
            ],
            "type": "histogram2dcontour"
           }
          ],
          "mesh3d": [
           {
            "colorbar": {
             "outlinewidth": 0,
             "ticks": ""
            },
            "type": "mesh3d"
           }
          ],
          "parcoords": [
           {
            "line": {
             "colorbar": {
              "outlinewidth": 0,
              "ticks": ""
             }
            },
            "type": "parcoords"
           }
          ],
          "pie": [
           {
            "automargin": true,
            "type": "pie"
           }
          ],
          "scatter": [
           {
            "fillpattern": {
             "fillmode": "overlay",
             "size": 10,
             "solidity": 0.2
            },
            "type": "scatter"
           }
          ],
          "scatter3d": [
           {
            "line": {
             "colorbar": {
              "outlinewidth": 0,
              "ticks": ""
             }
            },
            "marker": {
             "colorbar": {
              "outlinewidth": 0,
              "ticks": ""
             }
            },
            "type": "scatter3d"
           }
          ],
          "scattercarpet": [
           {
            "marker": {
             "colorbar": {
              "outlinewidth": 0,
              "ticks": ""
             }
            },
            "type": "scattercarpet"
           }
          ],
          "scattergeo": [
           {
            "marker": {
             "colorbar": {
              "outlinewidth": 0,
              "ticks": ""
             }
            },
            "type": "scattergeo"
           }
          ],
          "scattergl": [
           {
            "marker": {
             "colorbar": {
              "outlinewidth": 0,
              "ticks": ""
             }
            },
            "type": "scattergl"
           }
          ],
          "scattermap": [
           {
            "marker": {
             "colorbar": {
              "outlinewidth": 0,
              "ticks": ""
             }
            },
            "type": "scattermap"
           }
          ],
          "scattermapbox": [
           {
            "marker": {
             "colorbar": {
              "outlinewidth": 0,
              "ticks": ""
             }
            },
            "type": "scattermapbox"
           }
          ],
          "scatterpolar": [
           {
            "marker": {
             "colorbar": {
              "outlinewidth": 0,
              "ticks": ""
             }
            },
            "type": "scatterpolar"
           }
          ],
          "scatterpolargl": [
           {
            "marker": {
             "colorbar": {
              "outlinewidth": 0,
              "ticks": ""
             }
            },
            "type": "scatterpolargl"
           }
          ],
          "scatterternary": [
           {
            "marker": {
             "colorbar": {
              "outlinewidth": 0,
              "ticks": ""
             }
            },
            "type": "scatterternary"
           }
          ],
          "surface": [
           {
            "colorbar": {
             "outlinewidth": 0,
             "ticks": ""
            },
            "colorscale": [
             [
              0,
              "#0d0887"
             ],
             [
              0.1111111111111111,
              "#46039f"
             ],
             [
              0.2222222222222222,
              "#7201a8"
             ],
             [
              0.3333333333333333,
              "#9c179e"
             ],
             [
              0.4444444444444444,
              "#bd3786"
             ],
             [
              0.5555555555555556,
              "#d8576b"
             ],
             [
              0.6666666666666666,
              "#ed7953"
             ],
             [
              0.7777777777777778,
              "#fb9f3a"
             ],
             [
              0.8888888888888888,
              "#fdca26"
             ],
             [
              1,
              "#f0f921"
             ]
            ],
            "type": "surface"
           }
          ],
          "table": [
           {
            "cells": {
             "fill": {
              "color": "#EBF0F8"
             },
             "line": {
              "color": "white"
             }
            },
            "header": {
             "fill": {
              "color": "#C8D4E3"
             },
             "line": {
              "color": "white"
             }
            },
            "type": "table"
           }
          ]
         },
         "layout": {
          "annotationdefaults": {
           "arrowcolor": "#2a3f5f",
           "arrowhead": 0,
           "arrowwidth": 1
          },
          "autotypenumbers": "strict",
          "coloraxis": {
           "colorbar": {
            "outlinewidth": 0,
            "ticks": ""
           }
          },
          "colorscale": {
           "diverging": [
            [
             0,
             "#8e0152"
            ],
            [
             0.1,
             "#c51b7d"
            ],
            [
             0.2,
             "#de77ae"
            ],
            [
             0.3,
             "#f1b6da"
            ],
            [
             0.4,
             "#fde0ef"
            ],
            [
             0.5,
             "#f7f7f7"
            ],
            [
             0.6,
             "#e6f5d0"
            ],
            [
             0.7,
             "#b8e186"
            ],
            [
             0.8,
             "#7fbc41"
            ],
            [
             0.9,
             "#4d9221"
            ],
            [
             1,
             "#276419"
            ]
           ],
           "sequential": [
            [
             0,
             "#0d0887"
            ],
            [
             0.1111111111111111,
             "#46039f"
            ],
            [
             0.2222222222222222,
             "#7201a8"
            ],
            [
             0.3333333333333333,
             "#9c179e"
            ],
            [
             0.4444444444444444,
             "#bd3786"
            ],
            [
             0.5555555555555556,
             "#d8576b"
            ],
            [
             0.6666666666666666,
             "#ed7953"
            ],
            [
             0.7777777777777778,
             "#fb9f3a"
            ],
            [
             0.8888888888888888,
             "#fdca26"
            ],
            [
             1,
             "#f0f921"
            ]
           ],
           "sequentialminus": [
            [
             0,
             "#0d0887"
            ],
            [
             0.1111111111111111,
             "#46039f"
            ],
            [
             0.2222222222222222,
             "#7201a8"
            ],
            [
             0.3333333333333333,
             "#9c179e"
            ],
            [
             0.4444444444444444,
             "#bd3786"
            ],
            [
             0.5555555555555556,
             "#d8576b"
            ],
            [
             0.6666666666666666,
             "#ed7953"
            ],
            [
             0.7777777777777778,
             "#fb9f3a"
            ],
            [
             0.8888888888888888,
             "#fdca26"
            ],
            [
             1,
             "#f0f921"
            ]
           ]
          },
          "colorway": [
           "#636efa",
           "#EF553B",
           "#00cc96",
           "#ab63fa",
           "#FFA15A",
           "#19d3f3",
           "#FF6692",
           "#B6E880",
           "#FF97FF",
           "#FECB52"
          ],
          "font": {
           "color": "#2a3f5f"
          },
          "geo": {
           "bgcolor": "white",
           "lakecolor": "white",
           "landcolor": "#E5ECF6",
           "showlakes": true,
           "showland": true,
           "subunitcolor": "white"
          },
          "hoverlabel": {
           "align": "left"
          },
          "hovermode": "closest",
          "mapbox": {
           "style": "light"
          },
          "paper_bgcolor": "white",
          "plot_bgcolor": "#E5ECF6",
          "polar": {
           "angularaxis": {
            "gridcolor": "white",
            "linecolor": "white",
            "ticks": ""
           },
           "bgcolor": "#E5ECF6",
           "radialaxis": {
            "gridcolor": "white",
            "linecolor": "white",
            "ticks": ""
           }
          },
          "scene": {
           "xaxis": {
            "backgroundcolor": "#E5ECF6",
            "gridcolor": "white",
            "gridwidth": 2,
            "linecolor": "white",
            "showbackground": true,
            "ticks": "",
            "zerolinecolor": "white"
           },
           "yaxis": {
            "backgroundcolor": "#E5ECF6",
            "gridcolor": "white",
            "gridwidth": 2,
            "linecolor": "white",
            "showbackground": true,
            "ticks": "",
            "zerolinecolor": "white"
           },
           "zaxis": {
            "backgroundcolor": "#E5ECF6",
            "gridcolor": "white",
            "gridwidth": 2,
            "linecolor": "white",
            "showbackground": true,
            "ticks": "",
            "zerolinecolor": "white"
           }
          },
          "shapedefaults": {
           "line": {
            "color": "#2a3f5f"
           }
          },
          "ternary": {
           "aaxis": {
            "gridcolor": "white",
            "linecolor": "white",
            "ticks": ""
           },
           "baxis": {
            "gridcolor": "white",
            "linecolor": "white",
            "ticks": ""
           },
           "bgcolor": "#E5ECF6",
           "caxis": {
            "gridcolor": "white",
            "linecolor": "white",
            "ticks": ""
           }
          },
          "title": {
           "x": 0.05
          },
          "xaxis": {
           "automargin": true,
           "gridcolor": "white",
           "linecolor": "white",
           "ticks": "",
           "title": {
            "standoff": 15
           },
           "zerolinecolor": "white",
           "zerolinewidth": 2
          },
          "yaxis": {
           "automargin": true,
           "gridcolor": "white",
           "linecolor": "white",
           "ticks": "",
           "title": {
            "standoff": 15
           },
           "zerolinecolor": "white",
           "zerolinewidth": 2
          }
         }
        }
       }
      }
     },
     "metadata": {},
     "output_type": "display_data"
    }
   ],
   "source": [
    "diff2 = filtered - df[\"sampled\"]\n",
    "\n",
    "fig = go.Figure()\n",
    "\n",
    "fig.add_trace(go.Scatter(x=x, y=diff))\n",
    "fig.add_trace(go.Scatter(x=x, y=diff2))"
   ]
  }
 ],
 "metadata": {
  "kernelspec": {
   "display_name": "Python 3",
   "language": "python",
   "name": "python3"
  },
  "language_info": {
   "codemirror_mode": {
    "name": "ipython",
    "version": 3
   },
   "file_extension": ".py",
   "mimetype": "text/x-python",
   "name": "python",
   "nbconvert_exporter": "python",
   "pygments_lexer": "ipython3",
   "version": "3.13.5"
  }
 },
 "nbformat": 4,
 "nbformat_minor": 5
}

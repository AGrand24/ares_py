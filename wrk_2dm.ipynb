{
 "cells": [
  {
   "cell_type": "code",
   "execution_count": 51,
   "id": "c4ea4d12",
   "metadata": {},
   "outputs": [
    {
     "name": "stdout",
     "output_type": "stream",
     "text": [
      "2dm/klinovec/1.2dm\n",
      "2dm/klinovec/10.2dm\n",
      "2dm/klinovec/2.2dm\n"
     ]
    }
   ],
   "source": [
    "from ares_py.get_ld import get_ld\n",
    "import pandas as pd\n",
    "import numpy as np\n",
    "import plotly.graph_objects as go\n",
    "\n",
    "ld = get_ld(\"2dm/klinovec/\", ext=\".2dm\")\n",
    "\n",
    "# fps = ld[\"fp\"]\n",
    "fps = ld[\"fp\"].iloc[:3]\n",
    "# fps = [\"2dm/test.2dm\"]\n",
    "# fps = [\"2dm/klinovec/6.2dm\"]\n",
    "\n",
    "fig = go.Figure()\n",
    "from ares_py.ares_2dm.read_2dm import (\n",
    "    read_ascii,\n",
    "    version_2dm,\n",
    "    split_2dm_data,\n",
    "    format_header,\n",
    ")\n",
    "from ares_py.geometry.geometry_2dm import get_n_a_2dm, get_x_meas\n",
    "from ares_py.geometry.doi import get_doi_2dm\n",
    "\n",
    "# for fp in ld[\"fp\"].iloc[:1]:\n",
    "for fp in fps:\n",
    "    print(fp)\n",
    "    data, header = read_ascii(fp)\n",
    "    version = version_2dm(header)\n",
    "    data = split_2dm_data(data, version)\n",
    "    header = format_header(header)\n",
    "\n",
    "    data = get_n_a_2dm(data)\n",
    "    data = get_x_meas(data)\n",
    "    data = get_doi_2dm(data)\n",
    "    data[2][:, 0] = np.round(data[2][:, 0])\n",
    "    fig.add_trace(\n",
    "        go.Scatter(\n",
    "            x=data[6],\n",
    "            y=data[7],\n",
    "            mode=\"markers\",\n",
    "            marker=dict(\n",
    "                color=data[2][:, 0], colorscale=\"Spectral_r\", size=15, symbol=\"square\"\n",
    "            ),\n",
    "            hovertext=data[2][:, 0],\n",
    "            name=fp,\n",
    "        )\n",
    "    )\n",
    "\n",
    "\n",
    "fig.update_yaxes(scaleanchor=\"x1\", scaleratio=1)\n",
    "fig.update_layout(width=1600, height=900)\n",
    "fig.write_html(\"tmp/test.html\")"
   ]
  }
 ],
 "metadata": {
  "kernelspec": {
   "display_name": "Python 3",
   "language": "python",
   "name": "python3"
  },
  "language_info": {
   "codemirror_mode": {
    "name": "ipython",
    "version": 3
   },
   "file_extension": ".py",
   "mimetype": "text/x-python",
   "name": "python",
   "nbconvert_exporter": "python",
   "pygments_lexer": "ipython3",
   "version": "3.13.5"
  }
 },
 "nbformat": 4,
 "nbformat_minor": 5
}

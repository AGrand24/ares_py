{
 "cells": [
  {
   "cell_type": "code",
   "execution_count": 3,
   "id": "c4ea4d12",
   "metadata": {},
   "outputs": [
    {
     "name": "stdout",
     "output_type": "stream",
     "text": [
      "2dm/klinovec/1.2dm\n",
      "2dm/klinovec/10.2dm\n",
      "2dm/klinovec/2.2dm\n",
      "2dm/klinovec/3.2dm\n",
      "2dm/klinovec/5.2dm\n",
      "2dm/klinovec/6.2dm\n",
      "2dm/klinovec/7.2dm\n",
      "2dm/klinovec/8.2dm\n",
      "2dm/klinovec/9.2dm\n",
      "2dm/klinovec/pf5.2dm\n",
      "2dm/klinovec/pf6.2dm\n",
      "2dm/klinovec/t.2dm\n"
     ]
    }
   ],
   "source": [
    "from ares_py.get_ld import get_ld\n",
    "import pandas as pd\n",
    "import numpy as np\n",
    "import plotly.graph_objects as go\n",
    "import plotly.io as pio\n",
    "\n",
    "pio.templates.default = \"plotly_dark\"\n",
    "\n",
    "\n",
    "ld = get_ld(\"2dm/klinovec/\", ext=\".2dm\")\n",
    "\n",
    "fps = ld[\"fp\"]\n",
    "# fps=['2dm/ezal/108.2dm']\n",
    "# fps = ld[\"fp\"].iloc[8:10]\n",
    "# fps = [\"2dm/test.2dm\"]\n",
    "# fps = [\"2dm/klinovec/6.2dm\"]\n",
    "\n",
    "fig = go.Figure()\n",
    "from ares_py.ares_2dm.read_2dm import (\n",
    "    read_ascii,\n",
    "    version_2dm,\n",
    "    split_2dm_data,\n",
    "    format_header,\n",
    ")\n",
    "from ares_py.geometry.geometry_2dm import get_n_a_2dm, get_x_meas\n",
    "from ares_py.geometry.doi import get_doi_2dm\n",
    "from ares_py.tools.colors import load_clr_scale, generate_clr_scale\n",
    "\n",
    "# for fp in ld[\"fp\"].iloc[:1]:\n",
    "\n",
    "cs, crange = load_clr_scale(\"cs_def\")\n",
    "for fp in fps:\n",
    "    print(fp)\n",
    "    data, header = read_ascii(fp)\n",
    "    version = version_2dm(header)\n",
    "    data = split_2dm_data(data, version)\n",
    "    header = format_header(header)\n",
    "\n",
    "    data = get_n_a_2dm(data)\n",
    "    data = get_x_meas(data)\n",
    "    data = get_doi_2dm(data)\n",
    "    data[2][:, 0] = np.round(data[2][:, 0])\n",
    "\n",
    "    # size = np.log10(np.round(np.abs(data[7])))*10+5\n",
    "\n",
    "    fig.add_trace(\n",
    "        go.Scatter(\n",
    "            x=data[6],\n",
    "            y=data[7],\n",
    "            mode=\"markers\",\n",
    "            marker=dict(\n",
    "                # color=np.log10(data[2][:, 0]),\n",
    "                color=data[2][:, 0],\n",
    "                colorscale=cs,\n",
    "                # colorscale=\"RdBu_r\",\n",
    "                size=10,\n",
    "                symbol=\"square\",\n",
    "                cmin=crange[0],\n",
    "                cmax=crange[1],\n",
    "                # cmin=np.log10(crange[0]),\n",
    "                # cmax=np.log10(crange[1]),\n",
    "                # cmax=np.log10(5000),\n",
    "                showscale=True,\n",
    "                # line=dict(color=\"#494949\", width=1),\n",
    "                colorbar=dict(\n",
    "                    tickvals=[100, 500, 1000, 2000, 5000, 10000],\n",
    "                    ticktext=[\"100\", \"500\", \"1k\", \"2k\", \"5k\", \"10k\"],\n",
    "                ),\n",
    "            ),\n",
    "            hovertext=data[2][:, 0],\n",
    "            name=fp,\n",
    "        )\n",
    "    )\n",
    "\n",
    "\n",
    "fig.update_yaxes(scaleanchor=\"x1\", scaleratio=1)\n",
    "fig.update_layout(width=1600, height=900)\n",
    "fig.write_html(\"tmp/test.html\")\n",
    "\n",
    "\n",
    "# size.min()\n",
    "# size.max()"
   ]
  },
  {
   "cell_type": "code",
   "execution_count": 10,
   "id": "e8fa5d46",
   "metadata": {},
   "outputs": [
    {
     "data": {
      "application/vnd.microsoft.datawrangler.viewer.v0+json": {
       "columns": [
        {
         "name": "index",
         "rawType": "int64",
         "type": "integer"
        },
        {
         "name": "0",
         "rawType": "float64",
         "type": "float"
        }
       ],
       "ref": "47339b7d-962f-4531-924c-165d5ae57ed9",
       "rows": [
        [
         "0",
         "1.0"
        ],
        [
         "1",
         "1.0"
        ],
        [
         "2",
         "1.0"
        ],
        [
         "3",
         "1.0"
        ],
        [
         "4",
         "1.0"
        ],
        [
         "5",
         "1.0"
        ],
        [
         "6",
         "1.0"
        ],
        [
         "7",
         "1.0"
        ],
        [
         "8",
         "1.0"
        ],
        [
         "9",
         "1.0"
        ],
        [
         "10",
         "1.0"
        ],
        [
         "11",
         "1.0"
        ],
        [
         "12",
         "1.0"
        ],
        [
         "13",
         "1.0"
        ],
        [
         "14",
         "1.0"
        ],
        [
         "15",
         "1.0"
        ],
        [
         "16",
         "1.0"
        ],
        [
         "17",
         "1.0"
        ],
        [
         "18",
         "1.0"
        ],
        [
         "19",
         "1.0"
        ],
        [
         "20",
         "1.0"
        ],
        [
         "21",
         "1.0"
        ],
        [
         "22",
         "1.0"
        ],
        [
         "23",
         "1.0"
        ],
        [
         "24",
         "1.0"
        ],
        [
         "25",
         "1.0"
        ],
        [
         "26",
         "1.0"
        ],
        [
         "27",
         "1.0"
        ],
        [
         "28",
         "1.0"
        ],
        [
         "29",
         "1.0"
        ],
        [
         "30",
         "1.0"
        ],
        [
         "31",
         "1.0"
        ],
        [
         "32",
         "1.0"
        ],
        [
         "33",
         "1.0"
        ],
        [
         "34",
         "1.0"
        ],
        [
         "35",
         "1.0"
        ],
        [
         "36",
         "1.0"
        ],
        [
         "37",
         "1.0"
        ],
        [
         "38",
         "1.0"
        ],
        [
         "39",
         "1.0"
        ],
        [
         "40",
         "1.0"
        ],
        [
         "41",
         "1.0"
        ],
        [
         "42",
         "1.0"
        ],
        [
         "43",
         "1.0"
        ],
        [
         "44",
         "1.0"
        ],
        [
         "45",
         "1.0"
        ],
        [
         "46",
         "1.0"
        ],
        [
         "47",
         "1.0"
        ],
        [
         "48",
         "1.0"
        ],
        [
         "49",
         "1.0"
        ]
       ],
       "shape": {
        "columns": 1,
        "rows": 1225
       }
      },
      "text/plain": [
       "array([1., 1., 1., ..., 7., 7., 7.], shape=(1225,))"
      ]
     },
     "execution_count": 10,
     "metadata": {},
     "output_type": "execute_result"
    }
   ],
   "source": [
    "data[4]"
   ]
  },
  {
   "cell_type": "code",
   "execution_count": null,
   "id": "af0c9117",
   "metadata": {},
   "outputs": [],
   "source": []
  },
  {
   "cell_type": "code",
   "execution_count": null,
   "id": "16f71d1f",
   "metadata": {},
   "outputs": [],
   "source": [
    "cs = [\n",
    "    [0, \"#FFFFFF\"],\n",
    "    [0.01, \"#8800FF\"],\n",
    "    [100, \"#0400E4\"],\n",
    "    [250, \"#00FFFF\"],\n",
    "    [500, \"#00ff7b\"],\n",
    "    [1000, \"#f2ff00\"],\n",
    "    [5000, \"#ff0000\"],\n",
    "    [10000, \"#fb00b0\"],\n",
    "]\n",
    "\n",
    "\n",
    "generate_clr_scale(cs, save=True)"
   ]
  }
 ],
 "metadata": {
  "kernelspec": {
   "display_name": "Python 3",
   "language": "python",
   "name": "python3"
  },
  "language_info": {
   "codemirror_mode": {
    "name": "ipython",
    "version": 3
   },
   "file_extension": ".py",
   "mimetype": "text/x-python",
   "name": "python",
   "nbconvert_exporter": "python",
   "pygments_lexer": "ipython3",
   "version": "3.13.5"
  }
 },
 "nbformat": 4,
 "nbformat_minor": 5
}
